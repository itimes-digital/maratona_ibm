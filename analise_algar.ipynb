{
  "nbformat": 4,
  "nbformat_minor": 0,
  "metadata": {
    "colab": {
      "name": "analise_algar.ipynb",
      "provenance": [],
      "authorship_tag": "ABX9TyNVeLbeKrOzUyuzcb76u5B+",
      "include_colab_link": true
    },
    "kernelspec": {
      "name": "python3",
      "display_name": "Python 3"
    }
  },
  "cells": [
    {
      "cell_type": "markdown",
      "metadata": {
        "id": "view-in-github",
        "colab_type": "text"
      },
      "source": [
        "<a href=\"https://colab.research.google.com/github/itimes-digital/maratona_ibm/blob/master/analise_algar.ipynb\" target=\"_parent\"><img src=\"https://colab.research.google.com/assets/colab-badge.svg\" alt=\"Open In Colab\"/></a>"
      ]
    },
    {
      "cell_type": "code",
      "metadata": {
        "id": "DXB8de5oPo8G",
        "colab_type": "code",
        "colab": {
          "base_uri": "https://localhost:8080/",
          "height": 71
        },
        "outputId": "0afac56e-713c-4b72-f8a2-7b639cce0e37"
      },
      "source": [
        "import pandas as pd\n",
        "import matplotlib.pyplot as plt\n",
        "import seaborn as sns"
      ],
      "execution_count": 1,
      "outputs": [
        {
          "output_type": "stream",
          "text": [
            "/usr/local/lib/python3.6/dist-packages/statsmodels/tools/_testing.py:19: FutureWarning: pandas.util.testing is deprecated. Use the functions in the public API at pandas.testing instead.\n",
            "  import pandas.util.testing as tm\n"
          ],
          "name": "stderr"
        }
      ]
    },
    {
      "cell_type": "code",
      "metadata": {
        "id": "lImR4NcaP3S5",
        "colab_type": "code",
        "colab": {
          "base_uri": "https://localhost:8080/",
          "height": 428
        },
        "outputId": "ce25fa05-b6da-40a1-c896-4d1689c59a9a"
      },
      "source": [
        "dataset = pd.read_csv('sample_data/algar-dataset-treino.csv')\n",
        "dataset.head()"
      ],
      "execution_count": 16,
      "outputs": [
        {
          "output_type": "execute_result",
          "data": {
            "text/html": [
              "<div>\n",
              "<style scoped>\n",
              "    .dataframe tbody tr th:only-of-type {\n",
              "        vertical-align: middle;\n",
              "    }\n",
              "\n",
              "    .dataframe tbody tr th {\n",
              "        vertical-align: top;\n",
              "    }\n",
              "\n",
              "    .dataframe thead th {\n",
              "        text-align: right;\n",
              "    }\n",
              "</style>\n",
              "<table border=\"1\" class=\"dataframe\">\n",
              "  <thead>\n",
              "    <tr style=\"text-align: right;\">\n",
              "      <th></th>\n",
              "      <th>Idade</th>\n",
              "      <th>Local de trabalho</th>\n",
              "      <th>Pontuação teste</th>\n",
              "      <th>Departmento</th>\n",
              "      <th>Distancia casa-trabalho</th>\n",
              "      <th>Educacao</th>\n",
              "      <th>Area</th>\n",
              "      <th>Possui carro</th>\n",
              "      <th>Subordinado</th>\n",
              "      <th>Satisfação com o ambiente no emprego atual</th>\n",
              "      <th>Genero</th>\n",
              "      <th>Horas voluntariado</th>\n",
              "      <th>Envolvimento com trabalho</th>\n",
              "      <th>Posicao</th>\n",
              "      <th>Cargo</th>\n",
              "      <th>Satisfação com emprego</th>\n",
              "      <th>Estado civil</th>\n",
              "      <th>Renda</th>\n",
              "      <th>Bonus de performance</th>\n",
              "      <th>Quantidade de empresas que trabalho</th>\n",
              "      <th>Maior de idade</th>\n",
              "      <th>Necessita de hora extra</th>\n",
              "      <th>Aumento de salario%</th>\n",
              "      <th>Performance na entrevista</th>\n",
              "      <th>Satisfação com a relação</th>\n",
              "      <th>Horas de trabalho padrão</th>\n",
              "      <th>Beneficios</th>\n",
              "      <th>Anos de experiencia</th>\n",
              "      <th>Horas de treinamento ultimo ano</th>\n",
              "      <th>Estilo de vida</th>\n",
              "      <th>Anos na última empresa</th>\n",
              "      <th>Anos na posição atual</th>\n",
              "      <th>Anos desde última promoção</th>\n",
              "      <th>Anos com a mesma gerência</th>\n",
              "      <th>Contratar</th>\n",
              "    </tr>\n",
              "  </thead>\n",
              "  <tbody>\n",
              "    <tr>\n",
              "      <th>0</th>\n",
              "      <td>49</td>\n",
              "      <td>Cliente</td>\n",
              "      <td>279</td>\n",
              "      <td>Engenharia</td>\n",
              "      <td>8</td>\n",
              "      <td>Médio completo</td>\n",
              "      <td>Ciências das natureza</td>\n",
              "      <td>1</td>\n",
              "      <td>2</td>\n",
              "      <td>3</td>\n",
              "      <td>M</td>\n",
              "      <td>61</td>\n",
              "      <td>2</td>\n",
              "      <td>2</td>\n",
              "      <td>Engenheiro</td>\n",
              "      <td>2</td>\n",
              "      <td>Casado</td>\n",
              "      <td>5130</td>\n",
              "      <td>24907</td>\n",
              "      <td>1</td>\n",
              "      <td>1</td>\n",
              "      <td>Não</td>\n",
              "      <td>23</td>\n",
              "      <td>4</td>\n",
              "      <td>4</td>\n",
              "      <td>80</td>\n",
              "      <td>1</td>\n",
              "      <td>10</td>\n",
              "      <td>3</td>\n",
              "      <td>3</td>\n",
              "      <td>10</td>\n",
              "      <td>7</td>\n",
              "      <td>1</td>\n",
              "      <td>7</td>\n",
              "      <td>Não</td>\n",
              "    </tr>\n",
              "    <tr>\n",
              "      <th>1</th>\n",
              "      <td>33</td>\n",
              "      <td>Misto</td>\n",
              "      <td>1392</td>\n",
              "      <td>Engenharia</td>\n",
              "      <td>3</td>\n",
              "      <td>Superior incompleto - cursando</td>\n",
              "      <td>Ciências das natureza</td>\n",
              "      <td>1</td>\n",
              "      <td>5</td>\n",
              "      <td>4</td>\n",
              "      <td>F</td>\n",
              "      <td>56</td>\n",
              "      <td>3</td>\n",
              "      <td>1</td>\n",
              "      <td>Engenheiro</td>\n",
              "      <td>3</td>\n",
              "      <td>Casado</td>\n",
              "      <td>2909</td>\n",
              "      <td>23159</td>\n",
              "      <td>1</td>\n",
              "      <td>1</td>\n",
              "      <td>Sim</td>\n",
              "      <td>11</td>\n",
              "      <td>3</td>\n",
              "      <td>3</td>\n",
              "      <td>80</td>\n",
              "      <td>0</td>\n",
              "      <td>8</td>\n",
              "      <td>3</td>\n",
              "      <td>3</td>\n",
              "      <td>8</td>\n",
              "      <td>7</td>\n",
              "      <td>3</td>\n",
              "      <td>0</td>\n",
              "      <td>Não</td>\n",
              "    </tr>\n",
              "    <tr>\n",
              "      <th>2</th>\n",
              "      <td>27</td>\n",
              "      <td>Cliente</td>\n",
              "      <td>591</td>\n",
              "      <td>Engenharia</td>\n",
              "      <td>2</td>\n",
              "      <td>Médio completo</td>\n",
              "      <td>Medicina</td>\n",
              "      <td>1</td>\n",
              "      <td>7</td>\n",
              "      <td>1</td>\n",
              "      <td>M</td>\n",
              "      <td>40</td>\n",
              "      <td>3</td>\n",
              "      <td>1</td>\n",
              "      <td>Tecnico</td>\n",
              "      <td>2</td>\n",
              "      <td>Casado</td>\n",
              "      <td>3468</td>\n",
              "      <td>16632</td>\n",
              "      <td>9</td>\n",
              "      <td>1</td>\n",
              "      <td>Não</td>\n",
              "      <td>12</td>\n",
              "      <td>3</td>\n",
              "      <td>4</td>\n",
              "      <td>80</td>\n",
              "      <td>1</td>\n",
              "      <td>6</td>\n",
              "      <td>3</td>\n",
              "      <td>3</td>\n",
              "      <td>2</td>\n",
              "      <td>2</td>\n",
              "      <td>2</td>\n",
              "      <td>2</td>\n",
              "      <td>Não</td>\n",
              "    </tr>\n",
              "    <tr>\n",
              "      <th>3</th>\n",
              "      <td>32</td>\n",
              "      <td>Misto</td>\n",
              "      <td>1005</td>\n",
              "      <td>Engenharia</td>\n",
              "      <td>2</td>\n",
              "      <td>Superior incompleto</td>\n",
              "      <td>Ciências das natureza</td>\n",
              "      <td>1</td>\n",
              "      <td>8</td>\n",
              "      <td>4</td>\n",
              "      <td>M</td>\n",
              "      <td>79</td>\n",
              "      <td>3</td>\n",
              "      <td>1</td>\n",
              "      <td>Tecnico</td>\n",
              "      <td>4</td>\n",
              "      <td>Solteiro</td>\n",
              "      <td>3068</td>\n",
              "      <td>11864</td>\n",
              "      <td>0</td>\n",
              "      <td>1</td>\n",
              "      <td>Não</td>\n",
              "      <td>13</td>\n",
              "      <td>3</td>\n",
              "      <td>3</td>\n",
              "      <td>80</td>\n",
              "      <td>0</td>\n",
              "      <td>8</td>\n",
              "      <td>2</td>\n",
              "      <td>2</td>\n",
              "      <td>7</td>\n",
              "      <td>7</td>\n",
              "      <td>3</td>\n",
              "      <td>6</td>\n",
              "      <td>Não</td>\n",
              "    </tr>\n",
              "    <tr>\n",
              "      <th>4</th>\n",
              "      <td>59</td>\n",
              "      <td>Misto</td>\n",
              "      <td>1324</td>\n",
              "      <td>Engenharia</td>\n",
              "      <td>3</td>\n",
              "      <td>Superior completo</td>\n",
              "      <td>Medicina</td>\n",
              "      <td>1</td>\n",
              "      <td>10</td>\n",
              "      <td>3</td>\n",
              "      <td>F</td>\n",
              "      <td>81</td>\n",
              "      <td>4</td>\n",
              "      <td>1</td>\n",
              "      <td>Tecnico</td>\n",
              "      <td>1</td>\n",
              "      <td>Casado</td>\n",
              "      <td>2670</td>\n",
              "      <td>9964</td>\n",
              "      <td>4</td>\n",
              "      <td>1</td>\n",
              "      <td>Sim</td>\n",
              "      <td>20</td>\n",
              "      <td>4</td>\n",
              "      <td>1</td>\n",
              "      <td>80</td>\n",
              "      <td>3</td>\n",
              "      <td>12</td>\n",
              "      <td>3</td>\n",
              "      <td>2</td>\n",
              "      <td>1</td>\n",
              "      <td>0</td>\n",
              "      <td>0</td>\n",
              "      <td>0</td>\n",
              "      <td>Não</td>\n",
              "    </tr>\n",
              "  </tbody>\n",
              "</table>\n",
              "</div>"
            ],
            "text/plain": [
              "   Idade Local de trabalho  ...  Anos com a mesma gerência Contratar\n",
              "0     49           Cliente  ...                          7       Não\n",
              "1     33             Misto  ...                          0       Não\n",
              "2     27           Cliente  ...                          2       Não\n",
              "3     32             Misto  ...                          6       Não\n",
              "4     59             Misto  ...                          0       Não\n",
              "\n",
              "[5 rows x 35 columns]"
            ]
          },
          "metadata": {
            "tags": []
          },
          "execution_count": 16
        }
      ]
    },
    {
      "cell_type": "code",
      "metadata": {
        "id": "Lt_ct9xqQDaF",
        "colab_type": "code",
        "colab": {
          "base_uri": "https://localhost:8080/",
          "height": 385
        },
        "outputId": "9f3d569e-083e-4ac1-87ce-72f8e942abfc"
      },
      "source": [
        "dataset.describe()"
      ],
      "execution_count": 4,
      "outputs": [
        {
          "output_type": "execute_result",
          "data": {
            "text/html": [
              "<div>\n",
              "<style scoped>\n",
              "    .dataframe tbody tr th:only-of-type {\n",
              "        vertical-align: middle;\n",
              "    }\n",
              "\n",
              "    .dataframe tbody tr th {\n",
              "        vertical-align: top;\n",
              "    }\n",
              "\n",
              "    .dataframe thead th {\n",
              "        text-align: right;\n",
              "    }\n",
              "</style>\n",
              "<table border=\"1\" class=\"dataframe\">\n",
              "  <thead>\n",
              "    <tr style=\"text-align: right;\">\n",
              "      <th></th>\n",
              "      <th>Idade</th>\n",
              "      <th>Pontuação teste</th>\n",
              "      <th>Distancia casa-trabalho</th>\n",
              "      <th>Possui carro</th>\n",
              "      <th>Subordinado</th>\n",
              "      <th>Satisfação com o ambiente no emprego atual</th>\n",
              "      <th>Horas voluntariado</th>\n",
              "      <th>Envolvimento com trabalho</th>\n",
              "      <th>Posicao</th>\n",
              "      <th>Satisfação com emprego</th>\n",
              "      <th>Renda</th>\n",
              "      <th>Bonus de performance</th>\n",
              "      <th>Quantidade de empresas que trabalho</th>\n",
              "      <th>Maior de idade</th>\n",
              "      <th>Aumento de salario%</th>\n",
              "      <th>Performance na entrevista</th>\n",
              "      <th>Satisfação com a relação</th>\n",
              "      <th>Horas de trabalho padrão</th>\n",
              "      <th>Beneficios</th>\n",
              "      <th>Anos de experiencia</th>\n",
              "      <th>Horas de treinamento ultimo ano</th>\n",
              "      <th>Estilo de vida</th>\n",
              "      <th>Anos na última empresa</th>\n",
              "      <th>Anos na posição atual</th>\n",
              "      <th>Anos desde última promoção</th>\n",
              "      <th>Anos com a mesma gerência</th>\n",
              "    </tr>\n",
              "  </thead>\n",
              "  <tbody>\n",
              "    <tr>\n",
              "      <th>count</th>\n",
              "      <td>1370.000000</td>\n",
              "      <td>1370.000000</td>\n",
              "      <td>1370.000000</td>\n",
              "      <td>1370.0</td>\n",
              "      <td>1370.000000</td>\n",
              "      <td>1370.000000</td>\n",
              "      <td>1370.000000</td>\n",
              "      <td>1370.000000</td>\n",
              "      <td>1370.000000</td>\n",
              "      <td>1370.000000</td>\n",
              "      <td>1370.000000</td>\n",
              "      <td>1370.000000</td>\n",
              "      <td>1370.000000</td>\n",
              "      <td>1370.0</td>\n",
              "      <td>1370.000000</td>\n",
              "      <td>1370.000000</td>\n",
              "      <td>1370.000000</td>\n",
              "      <td>1370.0</td>\n",
              "      <td>1370.000000</td>\n",
              "      <td>1370.000000</td>\n",
              "      <td>1370.000000</td>\n",
              "      <td>1370.000000</td>\n",
              "      <td>1370.000000</td>\n",
              "      <td>1370.000000</td>\n",
              "      <td>1370.000000</td>\n",
              "      <td>1370.000000</td>\n",
              "    </tr>\n",
              "    <tr>\n",
              "      <th>mean</th>\n",
              "      <td>37.030657</td>\n",
              "      <td>807.249635</td>\n",
              "      <td>9.105109</td>\n",
              "      <td>1.0</td>\n",
              "      <td>1012.276642</td>\n",
              "      <td>2.729927</td>\n",
              "      <td>65.807299</td>\n",
              "      <td>2.745985</td>\n",
              "      <td>2.081752</td>\n",
              "      <td>2.723358</td>\n",
              "      <td>6572.754745</td>\n",
              "      <td>14296.439416</td>\n",
              "      <td>2.703650</td>\n",
              "      <td>1.0</td>\n",
              "      <td>15.174453</td>\n",
              "      <td>3.150365</td>\n",
              "      <td>2.720438</td>\n",
              "      <td>80.0</td>\n",
              "      <td>0.804380</td>\n",
              "      <td>11.357664</td>\n",
              "      <td>2.800730</td>\n",
              "      <td>2.769343</td>\n",
              "      <td>7.031387</td>\n",
              "      <td>4.244526</td>\n",
              "      <td>2.206569</td>\n",
              "      <td>4.141606</td>\n",
              "    </tr>\n",
              "    <tr>\n",
              "      <th>std</th>\n",
              "      <td>9.196528</td>\n",
              "      <td>404.400662</td>\n",
              "      <td>7.992457</td>\n",
              "      <td>0.0</td>\n",
              "      <td>569.946647</td>\n",
              "      <td>1.091863</td>\n",
              "      <td>20.389902</td>\n",
              "      <td>0.706643</td>\n",
              "      <td>1.113974</td>\n",
              "      <td>1.107829</td>\n",
              "      <td>4755.773452</td>\n",
              "      <td>7122.797449</td>\n",
              "      <td>2.499333</td>\n",
              "      <td>0.0</td>\n",
              "      <td>3.629208</td>\n",
              "      <td>0.357559</td>\n",
              "      <td>1.079704</td>\n",
              "      <td>0.0</td>\n",
              "      <td>0.851919</td>\n",
              "      <td>7.849234</td>\n",
              "      <td>1.282745</td>\n",
              "      <td>0.704319</td>\n",
              "      <td>6.127907</td>\n",
              "      <td>3.617897</td>\n",
              "      <td>3.220930</td>\n",
              "      <td>3.578049</td>\n",
              "    </tr>\n",
              "    <tr>\n",
              "      <th>min</th>\n",
              "      <td>18.000000</td>\n",
              "      <td>102.000000</td>\n",
              "      <td>1.000000</td>\n",
              "      <td>1.0</td>\n",
              "      <td>2.000000</td>\n",
              "      <td>1.000000</td>\n",
              "      <td>30.000000</td>\n",
              "      <td>1.000000</td>\n",
              "      <td>1.000000</td>\n",
              "      <td>1.000000</td>\n",
              "      <td>1009.000000</td>\n",
              "      <td>2094.000000</td>\n",
              "      <td>0.000000</td>\n",
              "      <td>1.0</td>\n",
              "      <td>11.000000</td>\n",
              "      <td>3.000000</td>\n",
              "      <td>1.000000</td>\n",
              "      <td>80.0</td>\n",
              "      <td>0.000000</td>\n",
              "      <td>0.000000</td>\n",
              "      <td>0.000000</td>\n",
              "      <td>1.000000</td>\n",
              "      <td>0.000000</td>\n",
              "      <td>0.000000</td>\n",
              "      <td>0.000000</td>\n",
              "      <td>0.000000</td>\n",
              "    </tr>\n",
              "    <tr>\n",
              "      <th>25%</th>\n",
              "      <td>30.000000</td>\n",
              "      <td>465.250000</td>\n",
              "      <td>2.000000</td>\n",
              "      <td>1.0</td>\n",
              "      <td>516.250000</td>\n",
              "      <td>2.000000</td>\n",
              "      <td>48.000000</td>\n",
              "      <td>2.000000</td>\n",
              "      <td>1.000000</td>\n",
              "      <td>2.000000</td>\n",
              "      <td>2932.250000</td>\n",
              "      <td>8009.750000</td>\n",
              "      <td>1.000000</td>\n",
              "      <td>1.0</td>\n",
              "      <td>12.000000</td>\n",
              "      <td>3.000000</td>\n",
              "      <td>2.000000</td>\n",
              "      <td>80.0</td>\n",
              "      <td>0.000000</td>\n",
              "      <td>6.000000</td>\n",
              "      <td>2.000000</td>\n",
              "      <td>2.000000</td>\n",
              "      <td>3.000000</td>\n",
              "      <td>2.000000</td>\n",
              "      <td>0.000000</td>\n",
              "      <td>2.000000</td>\n",
              "    </tr>\n",
              "    <tr>\n",
              "      <th>50%</th>\n",
              "      <td>36.000000</td>\n",
              "      <td>806.000000</td>\n",
              "      <td>7.000000</td>\n",
              "      <td>1.0</td>\n",
              "      <td>1014.500000</td>\n",
              "      <td>3.000000</td>\n",
              "      <td>66.000000</td>\n",
              "      <td>3.000000</td>\n",
              "      <td>2.000000</td>\n",
              "      <td>3.000000</td>\n",
              "      <td>4955.000000</td>\n",
              "      <td>14225.500000</td>\n",
              "      <td>2.000000</td>\n",
              "      <td>1.0</td>\n",
              "      <td>14.000000</td>\n",
              "      <td>3.000000</td>\n",
              "      <td>3.000000</td>\n",
              "      <td>80.0</td>\n",
              "      <td>1.000000</td>\n",
              "      <td>10.000000</td>\n",
              "      <td>3.000000</td>\n",
              "      <td>3.000000</td>\n",
              "      <td>5.000000</td>\n",
              "      <td>3.000000</td>\n",
              "      <td>1.000000</td>\n",
              "      <td>3.000000</td>\n",
              "    </tr>\n",
              "    <tr>\n",
              "      <th>75%</th>\n",
              "      <td>43.000000</td>\n",
              "      <td>1168.750000</td>\n",
              "      <td>14.000000</td>\n",
              "      <td>1.0</td>\n",
              "      <td>1512.000000</td>\n",
              "      <td>4.000000</td>\n",
              "      <td>83.000000</td>\n",
              "      <td>3.000000</td>\n",
              "      <td>3.000000</td>\n",
              "      <td>4.000000</td>\n",
              "      <td>8437.500000</td>\n",
              "      <td>20456.250000</td>\n",
              "      <td>4.000000</td>\n",
              "      <td>1.0</td>\n",
              "      <td>18.000000</td>\n",
              "      <td>3.000000</td>\n",
              "      <td>4.000000</td>\n",
              "      <td>80.0</td>\n",
              "      <td>1.000000</td>\n",
              "      <td>15.000000</td>\n",
              "      <td>3.000000</td>\n",
              "      <td>3.000000</td>\n",
              "      <td>10.000000</td>\n",
              "      <td>7.000000</td>\n",
              "      <td>3.000000</td>\n",
              "      <td>7.000000</td>\n",
              "    </tr>\n",
              "    <tr>\n",
              "      <th>max</th>\n",
              "      <td>60.000000</td>\n",
              "      <td>1499.000000</td>\n",
              "      <td>29.000000</td>\n",
              "      <td>1.0</td>\n",
              "      <td>2055.000000</td>\n",
              "      <td>4.000000</td>\n",
              "      <td>100.000000</td>\n",
              "      <td>4.000000</td>\n",
              "      <td>5.000000</td>\n",
              "      <td>4.000000</td>\n",
              "      <td>19999.000000</td>\n",
              "      <td>26999.000000</td>\n",
              "      <td>9.000000</td>\n",
              "      <td>1.0</td>\n",
              "      <td>25.000000</td>\n",
              "      <td>4.000000</td>\n",
              "      <td>4.000000</td>\n",
              "      <td>80.0</td>\n",
              "      <td>3.000000</td>\n",
              "      <td>40.000000</td>\n",
              "      <td>6.000000</td>\n",
              "      <td>4.000000</td>\n",
              "      <td>37.000000</td>\n",
              "      <td>18.000000</td>\n",
              "      <td>15.000000</td>\n",
              "      <td>17.000000</td>\n",
              "    </tr>\n",
              "  </tbody>\n",
              "</table>\n",
              "</div>"
            ],
            "text/plain": [
              "             Idade  ...  Anos com a mesma gerência\n",
              "count  1370.000000  ...                1370.000000\n",
              "mean     37.030657  ...                   4.141606\n",
              "std       9.196528  ...                   3.578049\n",
              "min      18.000000  ...                   0.000000\n",
              "25%      30.000000  ...                   2.000000\n",
              "50%      36.000000  ...                   3.000000\n",
              "75%      43.000000  ...                   7.000000\n",
              "max      60.000000  ...                  17.000000\n",
              "\n",
              "[8 rows x 26 columns]"
            ]
          },
          "metadata": {
            "tags": []
          },
          "execution_count": 4
        }
      ]
    },
    {
      "cell_type": "code",
      "metadata": {
        "id": "n8rdfhSrQFWd",
        "colab_type": "code",
        "colab": {
          "base_uri": "https://localhost:8080/",
          "height": 34
        },
        "outputId": "cc3c42c2-b9fa-4c8e-9c01-157bd4e354b0"
      },
      "source": [
        "dataset['Local de trabalho'].unique()"
      ],
      "execution_count": null,
      "outputs": [
        {
          "output_type": "execute_result",
          "data": {
            "text/plain": [
              "array(['Cliente', 'Misto', 'Escritório'], dtype=object)"
            ]
          },
          "metadata": {
            "tags": []
          },
          "execution_count": 6
        }
      ]
    },
    {
      "cell_type": "code",
      "metadata": {
        "id": "idGppJduQ9nR",
        "colab_type": "code",
        "colab": {
          "base_uri": "https://localhost:8080/",
          "height": 68
        },
        "outputId": "94b4bee4-38c2-4060-97b2-e448bbdee210"
      },
      "source": [
        "dataset['Area'].unique()"
      ],
      "execution_count": null,
      "outputs": [
        {
          "output_type": "execute_result",
          "data": {
            "text/plain": [
              "[Ciências das natureza, Medicina, Outros, Marketing, Faculdade Técnica, Ciências humanas]\n",
              "Categories (6, object): [Ciências das natureza, Medicina, Outros, Marketing, Faculdade Técnica,\n",
              "                         Ciências humanas]"
            ]
          },
          "metadata": {
            "tags": []
          },
          "execution_count": 21
        }
      ]
    },
    {
      "cell_type": "code",
      "metadata": {
        "id": "gIsjCTAXRDX5",
        "colab_type": "code",
        "colab": {
          "base_uri": "https://localhost:8080/",
          "height": 34
        },
        "outputId": "db3d2e10-62fe-4f44-8c7e-b8b57c84654d"
      },
      "source": [
        "dataset['Contratar'].unique()"
      ],
      "execution_count": null,
      "outputs": [
        {
          "output_type": "execute_result",
          "data": {
            "text/plain": [
              "array(['Não', 'Sim'], dtype=object)"
            ]
          },
          "metadata": {
            "tags": []
          },
          "execution_count": 8
        }
      ]
    },
    {
      "cell_type": "code",
      "metadata": {
        "id": "HjAKItqNRINV",
        "colab_type": "code",
        "colab": {
          "base_uri": "https://localhost:8080/",
          "height": 68
        },
        "outputId": "45e283a1-9835-417c-fb0e-3acaf38bc146"
      },
      "source": [
        "dataset['Educacao'].unique()"
      ],
      "execution_count": null,
      "outputs": [
        {
          "output_type": "execute_result",
          "data": {
            "text/plain": [
              "array(['Médio completo', 'Superior incompleto - cursando',\n",
              "       'Superior incompleto', 'Superior completo', 'Pós-gradução'],\n",
              "      dtype=object)"
            ]
          },
          "metadata": {
            "tags": []
          },
          "execution_count": 10
        }
      ]
    },
    {
      "cell_type": "code",
      "metadata": {
        "id": "SctfqKM_RMWV",
        "colab_type": "code",
        "colab": {
          "base_uri": "https://localhost:8080/",
          "height": 51
        },
        "outputId": "477063f4-8788-4dec-a352-394efedf4f15"
      },
      "source": [
        "dataset['Necessita de hora extra'].unique()"
      ],
      "execution_count": null,
      "outputs": [
        {
          "output_type": "execute_result",
          "data": {
            "text/plain": [
              "[Não, Sim]\n",
              "Categories (2, object): [Não, Sim]"
            ]
          },
          "metadata": {
            "tags": []
          },
          "execution_count": 9
        }
      ]
    },
    {
      "cell_type": "code",
      "metadata": {
        "id": "v_bUmc_qUTax",
        "colab_type": "code",
        "colab": {
          "base_uri": "https://localhost:8080/",
          "height": 51
        },
        "outputId": "6e4f09b4-a8c5-41e9-fae2-2d5958786d82"
      },
      "source": [
        "dataset_novo['Contratar'].unique()"
      ],
      "execution_count": null,
      "outputs": [
        {
          "output_type": "execute_result",
          "data": {
            "text/plain": [
              "[Não, Sim]\n",
              "Categories (2, object): [Não, Sim]"
            ]
          },
          "metadata": {
            "tags": []
          },
          "execution_count": 10
        }
      ]
    },
    {
      "cell_type": "code",
      "metadata": {
        "id": "HOW2EbaUUo9J",
        "colab_type": "code",
        "colab": {
          "base_uri": "https://localhost:8080/",
          "height": 34
        },
        "outputId": "f2c2305d-4de1-4bdf-e87f-edd1864c42dd"
      },
      "source": [
        "dataset_novo['Horas de trabalho padrão'].unique()"
      ],
      "execution_count": 20,
      "outputs": [
        {
          "output_type": "execute_result",
          "data": {
            "text/plain": [
              "array([80])"
            ]
          },
          "metadata": {
            "tags": []
          },
          "execution_count": 20
        }
      ]
    },
    {
      "cell_type": "code",
      "metadata": {
        "id": "CBYHipaZT40A",
        "colab_type": "code",
        "colab": {}
      },
      "source": [
        "dataset_novo = dataset"
      ],
      "execution_count": 22,
      "outputs": []
    },
    {
      "cell_type": "code",
      "metadata": {
        "id": "cT5Hd6-LSbbY",
        "colab_type": "code",
        "colab": {
          "base_uri": "https://localhost:8080/",
          "height": 204
        },
        "outputId": "1985a9c0-4760-4b5c-8cd7-8c7bc2f3172f"
      },
      "source": [
        "dataset_categoria = dataset_novo[['Necessita de hora extra', 'Area', \n",
        "                                 'Local de trabalho','Genero','Educacao',\n",
        "                                 'Departmento','Cargo','Estado civil']]\n",
        "dataset_categoria.head()"
      ],
      "execution_count": 26,
      "outputs": [
        {
          "output_type": "execute_result",
          "data": {
            "text/html": [
              "<div>\n",
              "<style scoped>\n",
              "    .dataframe tbody tr th:only-of-type {\n",
              "        vertical-align: middle;\n",
              "    }\n",
              "\n",
              "    .dataframe tbody tr th {\n",
              "        vertical-align: top;\n",
              "    }\n",
              "\n",
              "    .dataframe thead th {\n",
              "        text-align: right;\n",
              "    }\n",
              "</style>\n",
              "<table border=\"1\" class=\"dataframe\">\n",
              "  <thead>\n",
              "    <tr style=\"text-align: right;\">\n",
              "      <th></th>\n",
              "      <th>Necessita de hora extra</th>\n",
              "      <th>Area</th>\n",
              "      <th>Local de trabalho</th>\n",
              "      <th>Genero</th>\n",
              "      <th>Educacao</th>\n",
              "      <th>Departmento</th>\n",
              "      <th>Cargo</th>\n",
              "      <th>Estado civil</th>\n",
              "    </tr>\n",
              "  </thead>\n",
              "  <tbody>\n",
              "    <tr>\n",
              "      <th>0</th>\n",
              "      <td>Não</td>\n",
              "      <td>Ciências das natureza</td>\n",
              "      <td>Cliente</td>\n",
              "      <td>M</td>\n",
              "      <td>Médio completo</td>\n",
              "      <td>Engenharia</td>\n",
              "      <td>Engenheiro</td>\n",
              "      <td>Casado</td>\n",
              "    </tr>\n",
              "    <tr>\n",
              "      <th>1</th>\n",
              "      <td>Sim</td>\n",
              "      <td>Ciências das natureza</td>\n",
              "      <td>Misto</td>\n",
              "      <td>F</td>\n",
              "      <td>Superior incompleto - cursando</td>\n",
              "      <td>Engenharia</td>\n",
              "      <td>Engenheiro</td>\n",
              "      <td>Casado</td>\n",
              "    </tr>\n",
              "    <tr>\n",
              "      <th>2</th>\n",
              "      <td>Não</td>\n",
              "      <td>Medicina</td>\n",
              "      <td>Cliente</td>\n",
              "      <td>M</td>\n",
              "      <td>Médio completo</td>\n",
              "      <td>Engenharia</td>\n",
              "      <td>Tecnico</td>\n",
              "      <td>Casado</td>\n",
              "    </tr>\n",
              "    <tr>\n",
              "      <th>3</th>\n",
              "      <td>Não</td>\n",
              "      <td>Ciências das natureza</td>\n",
              "      <td>Misto</td>\n",
              "      <td>M</td>\n",
              "      <td>Superior incompleto</td>\n",
              "      <td>Engenharia</td>\n",
              "      <td>Tecnico</td>\n",
              "      <td>Solteiro</td>\n",
              "    </tr>\n",
              "    <tr>\n",
              "      <th>4</th>\n",
              "      <td>Sim</td>\n",
              "      <td>Medicina</td>\n",
              "      <td>Misto</td>\n",
              "      <td>F</td>\n",
              "      <td>Superior completo</td>\n",
              "      <td>Engenharia</td>\n",
              "      <td>Tecnico</td>\n",
              "      <td>Casado</td>\n",
              "    </tr>\n",
              "  </tbody>\n",
              "</table>\n",
              "</div>"
            ],
            "text/plain": [
              "  Necessita de hora extra                   Area  ...       Cargo Estado civil\n",
              "0                     Não  Ciências das natureza  ...  Engenheiro       Casado\n",
              "1                     Sim  Ciências das natureza  ...  Engenheiro       Casado\n",
              "2                     Não               Medicina  ...     Tecnico       Casado\n",
              "3                     Não  Ciências das natureza  ...     Tecnico     Solteiro\n",
              "4                     Sim               Medicina  ...     Tecnico       Casado\n",
              "\n",
              "[5 rows x 8 columns]"
            ]
          },
          "metadata": {
            "tags": []
          },
          "execution_count": 26
        }
      ]
    },
    {
      "cell_type": "code",
      "metadata": {
        "id": "8LgO3s22Yxum",
        "colab_type": "code",
        "colab": {
          "base_uri": "https://localhost:8080/",
          "height": 721
        },
        "outputId": "2f360e43-bccf-49ec-a432-faa913c5878c"
      },
      "source": [
        "f, ax = plt.subplots(figsize=(25, 10))\n",
        "plt.title(\"Correlação entre Atributos\")\n",
        "heat_map = sns.heatmap(dataset_novo.corr(), \n",
        "            annot=True, \n",
        "            vmin = -1,\n",
        "            vmax = 1,\n",
        "            linewidths=.5, \n",
        "            cmap=\"YlGnBu\", \n",
        "            center=0, \n",
        "            ax=ax, \n",
        "            cbar_kws={'label': 'Correlação'})\n",
        "\n",
        "heat_map.set_xticklabels(heat_map.get_xticklabels(), \n",
        "                         rotation=90, \n",
        "                         horizontalalignment='center')\n",
        "plt.show()\n",
        "#Renda, posição, idade, anos de experiência, anos da ultima empresa, anos na posição atual, anos na mesma gerencia, anos desde a ultima posicao"
      ],
      "execution_count": 25,
      "outputs": [
        {
          "output_type": "display_data",
          "data": {
            "image/png": "[encoded data removed]",
            "text/plain": [
              "<Figure size 1800x720 with 2 Axes>"
            ]
          },
          "metadata": {
            "tags": [],
            "needs_background": "light"
          }
        }
      ]
    },
    {
      "cell_type": "code",
      "metadata": {
        "id": "dcXDEr7YmfFy",
        "colab_type": "code",
        "colab": {
          "base_uri": "https://localhost:8080/",
          "height": 266
        },
        "outputId": "a66ea08d-5f4b-4eb7-953b-813c2060269d"
      },
      "source": [
        "\n",
        "boxplot = dataset_novo.boxplot(column=['Renda', 'Posicao', 'Idade', 'Anos de experiencia', \n",
        "                                               'Anos na última empresa', 'Anos na posição atual', \n",
        "                                               'Anos com a mesma gerência', 'Anos desde última promoção'])"
      ],
      "execution_count": 207,
      "outputs": [
        {
          "output_type": "display_data",
          "data": {
            "image/png": "[encoded data removed]",
            "text/plain": [
              "<Figure size 432x288 with 1 Axes>"
            ]
          },
          "metadata": {
            "tags": [],
            "needs_background": "light"
          }
        }
      ]
    },
    {
      "cell_type": "code",
      "metadata": {
        "id": "32NzLyObapeH",
        "colab_type": "code",
        "colab": {
          "base_uri": "https://localhost:8080/",
          "height": 731
        },
        "outputId": "6647a8d4-f297-4755-d4ff-9edf32926f5c"
      },
      "source": [
        "dataset.info()"
      ],
      "execution_count": 27,
      "outputs": [
        {
          "output_type": "stream",
          "text": [
            "<class 'pandas.core.frame.DataFrame'>\n",
            "RangeIndex: 1370 entries, 0 to 1369\n",
            "Data columns (total 35 columns):\n",
            " #   Column                                      Non-Null Count  Dtype \n",
            "---  ------                                      --------------  ----- \n",
            " 0   Idade                                       1370 non-null   int64 \n",
            " 1   Local de trabalho                           1370 non-null   object\n",
            " 2   Pontuação teste                             1370 non-null   int64 \n",
            " 3   Departmento                                 1370 non-null   object\n",
            " 4   Distancia casa-trabalho                     1370 non-null   int64 \n",
            " 5   Educacao                                    1370 non-null   object\n",
            " 6   Area                                        1370 non-null   object\n",
            " 7   Possui carro                                1370 non-null   int64 \n",
            " 8   Subordinado                                 1370 non-null   int64 \n",
            " 9   Satisfação com o ambiente no emprego atual  1370 non-null   int64 \n",
            " 10  Genero                                      1370 non-null   object\n",
            " 11  Horas voluntariado                          1370 non-null   int64 \n",
            " 12  Envolvimento com trabalho                   1370 non-null   int64 \n",
            " 13  Posicao                                     1370 non-null   int64 \n",
            " 14  Cargo                                       1370 non-null   object\n",
            " 15  Satisfação com emprego                      1370 non-null   int64 \n",
            " 16  Estado civil                                1370 non-null   object\n",
            " 17  Renda                                       1370 non-null   int64 \n",
            " 18  Bonus de performance                        1370 non-null   int64 \n",
            " 19  Quantidade de empresas que trabalho         1370 non-null   int64 \n",
            " 20  Maior de idade                              1370 non-null   int64 \n",
            " 21  Necessita de hora extra                     1370 non-null   object\n",
            " 22  Aumento de salario%                         1370 non-null   int64 \n",
            " 23  Performance na entrevista                   1370 non-null   int64 \n",
            " 24  Satisfação com a relação                    1370 non-null   int64 \n",
            " 25  Horas de trabalho padrão                    1370 non-null   int64 \n",
            " 26  Beneficios                                  1370 non-null   int64 \n",
            " 27  Anos de experiencia                         1370 non-null   int64 \n",
            " 28  Horas de treinamento ultimo ano             1370 non-null   int64 \n",
            " 29  Estilo de vida                              1370 non-null   int64 \n",
            " 30  Anos na última empresa                      1370 non-null   int64 \n",
            " 31  Anos na posição atual                       1370 non-null   int64 \n",
            " 32  Anos desde última promoção                  1370 non-null   int64 \n",
            " 33  Anos com a mesma gerência                   1370 non-null   int64 \n",
            " 34  Contratar                                   1370 non-null   object\n",
            "dtypes: int64(26), object(9)\n",
            "memory usage: 374.7+ KB\n"
          ],
          "name": "stdout"
        }
      ]
    },
    {
      "cell_type": "code",
      "metadata": {
        "id": "4HFp4F9OaOff",
        "colab_type": "code",
        "colab": {}
      },
      "source": [
        "dataset_novo = dataset_categoria.join(dataset[['Renda', 'Posicao', 'Idade', 'Anos de experiencia', \n",
        "                                               'Anos na última empresa', 'Anos na posição atual', \n",
        "                                               'Anos com a mesma gerência', 'Anos desde última promoção']])#'Aumento de salario%',\t'Performance na entrevista'"
      ],
      "execution_count": 209,
      "outputs": []
    },
    {
      "cell_type": "code",
      "metadata": {
        "id": "Pr8guAmicjtW",
        "colab_type": "code",
        "colab": {
          "base_uri": "https://localhost:8080/",
          "height": 374
        },
        "outputId": "e33244cc-9adc-4894-8d8d-82fa9610afe5"
      },
      "source": [
        "dataset_novo.head()"
      ],
      "execution_count": 210,
      "outputs": [
        {
          "output_type": "execute_result",
          "data": {
            "text/html": [
              "<div>\n",
              "<style scoped>\n",
              "    .dataframe tbody tr th:only-of-type {\n",
              "        vertical-align: middle;\n",
              "    }\n",
              "\n",
              "    .dataframe tbody tr th {\n",
              "        vertical-align: top;\n",
              "    }\n",
              "\n",
              "    .dataframe thead th {\n",
              "        text-align: right;\n",
              "    }\n",
              "</style>\n",
              "<table border=\"1\" class=\"dataframe\">\n",
              "  <thead>\n",
              "    <tr style=\"text-align: right;\">\n",
              "      <th></th>\n",
              "      <th>Necessita de hora extra</th>\n",
              "      <th>Area</th>\n",
              "      <th>Local de trabalho</th>\n",
              "      <th>Genero</th>\n",
              "      <th>Educacao</th>\n",
              "      <th>Departmento</th>\n",
              "      <th>Cargo</th>\n",
              "      <th>Estado civil</th>\n",
              "      <th>Renda</th>\n",
              "      <th>Posicao</th>\n",
              "      <th>Idade</th>\n",
              "      <th>Anos de experiencia</th>\n",
              "      <th>Anos na última empresa</th>\n",
              "      <th>Anos na posição atual</th>\n",
              "      <th>Anos com a mesma gerência</th>\n",
              "      <th>Anos desde última promoção</th>\n",
              "    </tr>\n",
              "  </thead>\n",
              "  <tbody>\n",
              "    <tr>\n",
              "      <th>0</th>\n",
              "      <td>Não</td>\n",
              "      <td>Ciências das natureza</td>\n",
              "      <td>Cliente</td>\n",
              "      <td>M</td>\n",
              "      <td>Médio completo</td>\n",
              "      <td>Engenharia</td>\n",
              "      <td>Engenheiro</td>\n",
              "      <td>Casado</td>\n",
              "      <td>5130</td>\n",
              "      <td>2</td>\n",
              "      <td>49</td>\n",
              "      <td>10</td>\n",
              "      <td>10</td>\n",
              "      <td>7</td>\n",
              "      <td>7</td>\n",
              "      <td>1</td>\n",
              "    </tr>\n",
              "    <tr>\n",
              "      <th>1</th>\n",
              "      <td>Sim</td>\n",
              "      <td>Ciências das natureza</td>\n",
              "      <td>Misto</td>\n",
              "      <td>F</td>\n",
              "      <td>Superior incompleto - cursando</td>\n",
              "      <td>Engenharia</td>\n",
              "      <td>Engenheiro</td>\n",
              "      <td>Casado</td>\n",
              "      <td>2909</td>\n",
              "      <td>1</td>\n",
              "      <td>33</td>\n",
              "      <td>8</td>\n",
              "      <td>8</td>\n",
              "      <td>7</td>\n",
              "      <td>0</td>\n",
              "      <td>3</td>\n",
              "    </tr>\n",
              "    <tr>\n",
              "      <th>2</th>\n",
              "      <td>Não</td>\n",
              "      <td>Medicina</td>\n",
              "      <td>Cliente</td>\n",
              "      <td>M</td>\n",
              "      <td>Médio completo</td>\n",
              "      <td>Engenharia</td>\n",
              "      <td>Tecnico</td>\n",
              "      <td>Casado</td>\n",
              "      <td>3468</td>\n",
              "      <td>1</td>\n",
              "      <td>27</td>\n",
              "      <td>6</td>\n",
              "      <td>2</td>\n",
              "      <td>2</td>\n",
              "      <td>2</td>\n",
              "      <td>2</td>\n",
              "    </tr>\n",
              "    <tr>\n",
              "      <th>3</th>\n",
              "      <td>Não</td>\n",
              "      <td>Ciências das natureza</td>\n",
              "      <td>Misto</td>\n",
              "      <td>M</td>\n",
              "      <td>Superior incompleto</td>\n",
              "      <td>Engenharia</td>\n",
              "      <td>Tecnico</td>\n",
              "      <td>Solteiro</td>\n",
              "      <td>3068</td>\n",
              "      <td>1</td>\n",
              "      <td>32</td>\n",
              "      <td>8</td>\n",
              "      <td>7</td>\n",
              "      <td>7</td>\n",
              "      <td>6</td>\n",
              "      <td>3</td>\n",
              "    </tr>\n",
              "    <tr>\n",
              "      <th>4</th>\n",
              "      <td>Sim</td>\n",
              "      <td>Medicina</td>\n",
              "      <td>Misto</td>\n",
              "      <td>F</td>\n",
              "      <td>Superior completo</td>\n",
              "      <td>Engenharia</td>\n",
              "      <td>Tecnico</td>\n",
              "      <td>Casado</td>\n",
              "      <td>2670</td>\n",
              "      <td>1</td>\n",
              "      <td>59</td>\n",
              "      <td>12</td>\n",
              "      <td>1</td>\n",
              "      <td>0</td>\n",
              "      <td>0</td>\n",
              "      <td>0</td>\n",
              "    </tr>\n",
              "  </tbody>\n",
              "</table>\n",
              "</div>"
            ],
            "text/plain": [
              "  Necessita de hora extra  ... Anos desde última promoção\n",
              "0                     Não  ...                          1\n",
              "1                     Sim  ...                          3\n",
              "2                     Não  ...                          2\n",
              "3                     Não  ...                          3\n",
              "4                     Sim  ...                          0\n",
              "\n",
              "[5 rows x 16 columns]"
            ]
          },
          "metadata": {
            "tags": []
          },
          "execution_count": 210
        }
      ]
    },
    {
      "cell_type": "code",
      "metadata": {
        "id": "xHqR5SKNdZlT",
        "colab_type": "code",
        "colab": {
          "base_uri": "https://localhost:8080/",
          "height": 173
        },
        "outputId": "814a6ac4-e996-4792-9836-8c508d4f47ac"
      },
      "source": [
        "dataset['Contratar'].head()\n",
        "dataset[[\"Contratar\"]].describe()"
      ],
      "execution_count": 211,
      "outputs": [
        {
          "output_type": "execute_result",
          "data": {
            "text/html": [
              "<div>\n",
              "<style scoped>\n",
              "    .dataframe tbody tr th:only-of-type {\n",
              "        vertical-align: middle;\n",
              "    }\n",
              "\n",
              "    .dataframe tbody tr th {\n",
              "        vertical-align: top;\n",
              "    }\n",
              "\n",
              "    .dataframe thead th {\n",
              "        text-align: right;\n",
              "    }\n",
              "</style>\n",
              "<table border=\"1\" class=\"dataframe\">\n",
              "  <thead>\n",
              "    <tr style=\"text-align: right;\">\n",
              "      <th></th>\n",
              "      <th>Contratar</th>\n",
              "    </tr>\n",
              "  </thead>\n",
              "  <tbody>\n",
              "    <tr>\n",
              "      <th>count</th>\n",
              "      <td>1370</td>\n",
              "    </tr>\n",
              "    <tr>\n",
              "      <th>unique</th>\n",
              "      <td>2</td>\n",
              "    </tr>\n",
              "    <tr>\n",
              "      <th>top</th>\n",
              "      <td>Não</td>\n",
              "    </tr>\n",
              "    <tr>\n",
              "      <th>freq</th>\n",
              "      <td>1178</td>\n",
              "    </tr>\n",
              "  </tbody>\n",
              "</table>\n",
              "</div>"
            ],
            "text/plain": [
              "       Contratar\n",
              "count       1370\n",
              "unique         2\n",
              "top          Não\n",
              "freq        1178"
            ]
          },
          "metadata": {
            "tags": []
          },
          "execution_count": 211
        }
      ]
    },
    {
      "cell_type": "code",
      "metadata": {
        "id": "Z_WM6FqceGht",
        "colab_type": "code",
        "colab": {
          "base_uri": "https://localhost:8080/",
          "height": 428
        },
        "outputId": "aca26a0b-3053-4db7-8f2f-521d756ac35b"
      },
      "source": [
        "dataset.head()"
      ],
      "execution_count": 212,
      "outputs": [
        {
          "output_type": "execute_result",
          "data": {
            "text/html": [
              "<div>\n",
              "<style scoped>\n",
              "    .dataframe tbody tr th:only-of-type {\n",
              "        vertical-align: middle;\n",
              "    }\n",
              "\n",
              "    .dataframe tbody tr th {\n",
              "        vertical-align: top;\n",
              "    }\n",
              "\n",
              "    .dataframe thead th {\n",
              "        text-align: right;\n",
              "    }\n",
              "</style>\n",
              "<table border=\"1\" class=\"dataframe\">\n",
              "  <thead>\n",
              "    <tr style=\"text-align: right;\">\n",
              "      <th></th>\n",
              "      <th>Idade</th>\n",
              "      <th>Local de trabalho</th>\n",
              "      <th>Pontuação teste</th>\n",
              "      <th>Departmento</th>\n",
              "      <th>Distancia casa-trabalho</th>\n",
              "      <th>Educacao</th>\n",
              "      <th>Area</th>\n",
              "      <th>Possui carro</th>\n",
              "      <th>Subordinado</th>\n",
              "      <th>Satisfação com o ambiente no emprego atual</th>\n",
              "      <th>Genero</th>\n",
              "      <th>Horas voluntariado</th>\n",
              "      <th>Envolvimento com trabalho</th>\n",
              "      <th>Posicao</th>\n",
              "      <th>Cargo</th>\n",
              "      <th>Satisfação com emprego</th>\n",
              "      <th>Estado civil</th>\n",
              "      <th>Renda</th>\n",
              "      <th>Bonus de performance</th>\n",
              "      <th>Quantidade de empresas que trabalho</th>\n",
              "      <th>Maior de idade</th>\n",
              "      <th>Necessita de hora extra</th>\n",
              "      <th>Aumento de salario%</th>\n",
              "      <th>Performance na entrevista</th>\n",
              "      <th>Satisfação com a relação</th>\n",
              "      <th>Horas de trabalho padrão</th>\n",
              "      <th>Beneficios</th>\n",
              "      <th>Anos de experiencia</th>\n",
              "      <th>Horas de treinamento ultimo ano</th>\n",
              "      <th>Estilo de vida</th>\n",
              "      <th>Anos na última empresa</th>\n",
              "      <th>Anos na posição atual</th>\n",
              "      <th>Anos desde última promoção</th>\n",
              "      <th>Anos com a mesma gerência</th>\n",
              "      <th>Contratar</th>\n",
              "    </tr>\n",
              "  </thead>\n",
              "  <tbody>\n",
              "    <tr>\n",
              "      <th>0</th>\n",
              "      <td>49</td>\n",
              "      <td>Cliente</td>\n",
              "      <td>279</td>\n",
              "      <td>Engenharia</td>\n",
              "      <td>8</td>\n",
              "      <td>Médio completo</td>\n",
              "      <td>Ciências das natureza</td>\n",
              "      <td>1</td>\n",
              "      <td>2</td>\n",
              "      <td>3</td>\n",
              "      <td>M</td>\n",
              "      <td>61</td>\n",
              "      <td>2</td>\n",
              "      <td>2</td>\n",
              "      <td>Engenheiro</td>\n",
              "      <td>2</td>\n",
              "      <td>Casado</td>\n",
              "      <td>5130</td>\n",
              "      <td>24907</td>\n",
              "      <td>1</td>\n",
              "      <td>1</td>\n",
              "      <td>Não</td>\n",
              "      <td>23</td>\n",
              "      <td>4</td>\n",
              "      <td>4</td>\n",
              "      <td>80</td>\n",
              "      <td>1</td>\n",
              "      <td>10</td>\n",
              "      <td>3</td>\n",
              "      <td>3</td>\n",
              "      <td>10</td>\n",
              "      <td>7</td>\n",
              "      <td>1</td>\n",
              "      <td>7</td>\n",
              "      <td>Não</td>\n",
              "    </tr>\n",
              "    <tr>\n",
              "      <th>1</th>\n",
              "      <td>33</td>\n",
              "      <td>Misto</td>\n",
              "      <td>1392</td>\n",
              "      <td>Engenharia</td>\n",
              "      <td>3</td>\n",
              "      <td>Superior incompleto - cursando</td>\n",
              "      <td>Ciências das natureza</td>\n",
              "      <td>1</td>\n",
              "      <td>5</td>\n",
              "      <td>4</td>\n",
              "      <td>F</td>\n",
              "      <td>56</td>\n",
              "      <td>3</td>\n",
              "      <td>1</td>\n",
              "      <td>Engenheiro</td>\n",
              "      <td>3</td>\n",
              "      <td>Casado</td>\n",
              "      <td>2909</td>\n",
              "      <td>23159</td>\n",
              "      <td>1</td>\n",
              "      <td>1</td>\n",
              "      <td>Sim</td>\n",
              "      <td>11</td>\n",
              "      <td>3</td>\n",
              "      <td>3</td>\n",
              "      <td>80</td>\n",
              "      <td>0</td>\n",
              "      <td>8</td>\n",
              "      <td>3</td>\n",
              "      <td>3</td>\n",
              "      <td>8</td>\n",
              "      <td>7</td>\n",
              "      <td>3</td>\n",
              "      <td>0</td>\n",
              "      <td>Não</td>\n",
              "    </tr>\n",
              "    <tr>\n",
              "      <th>2</th>\n",
              "      <td>27</td>\n",
              "      <td>Cliente</td>\n",
              "      <td>591</td>\n",
              "      <td>Engenharia</td>\n",
              "      <td>2</td>\n",
              "      <td>Médio completo</td>\n",
              "      <td>Medicina</td>\n",
              "      <td>1</td>\n",
              "      <td>7</td>\n",
              "      <td>1</td>\n",
              "      <td>M</td>\n",
              "      <td>40</td>\n",
              "      <td>3</td>\n",
              "      <td>1</td>\n",
              "      <td>Tecnico</td>\n",
              "      <td>2</td>\n",
              "      <td>Casado</td>\n",
              "      <td>3468</td>\n",
              "      <td>16632</td>\n",
              "      <td>9</td>\n",
              "      <td>1</td>\n",
              "      <td>Não</td>\n",
              "      <td>12</td>\n",
              "      <td>3</td>\n",
              "      <td>4</td>\n",
              "      <td>80</td>\n",
              "      <td>1</td>\n",
              "      <td>6</td>\n",
              "      <td>3</td>\n",
              "      <td>3</td>\n",
              "      <td>2</td>\n",
              "      <td>2</td>\n",
              "      <td>2</td>\n",
              "      <td>2</td>\n",
              "      <td>Não</td>\n",
              "    </tr>\n",
              "    <tr>\n",
              "      <th>3</th>\n",
              "      <td>32</td>\n",
              "      <td>Misto</td>\n",
              "      <td>1005</td>\n",
              "      <td>Engenharia</td>\n",
              "      <td>2</td>\n",
              "      <td>Superior incompleto</td>\n",
              "      <td>Ciências das natureza</td>\n",
              "      <td>1</td>\n",
              "      <td>8</td>\n",
              "      <td>4</td>\n",
              "      <td>M</td>\n",
              "      <td>79</td>\n",
              "      <td>3</td>\n",
              "      <td>1</td>\n",
              "      <td>Tecnico</td>\n",
              "      <td>4</td>\n",
              "      <td>Solteiro</td>\n",
              "      <td>3068</td>\n",
              "      <td>11864</td>\n",
              "      <td>0</td>\n",
              "      <td>1</td>\n",
              "      <td>Não</td>\n",
              "      <td>13</td>\n",
              "      <td>3</td>\n",
              "      <td>3</td>\n",
              "      <td>80</td>\n",
              "      <td>0</td>\n",
              "      <td>8</td>\n",
              "      <td>2</td>\n",
              "      <td>2</td>\n",
              "      <td>7</td>\n",
              "      <td>7</td>\n",
              "      <td>3</td>\n",
              "      <td>6</td>\n",
              "      <td>Não</td>\n",
              "    </tr>\n",
              "    <tr>\n",
              "      <th>4</th>\n",
              "      <td>59</td>\n",
              "      <td>Misto</td>\n",
              "      <td>1324</td>\n",
              "      <td>Engenharia</td>\n",
              "      <td>3</td>\n",
              "      <td>Superior completo</td>\n",
              "      <td>Medicina</td>\n",
              "      <td>1</td>\n",
              "      <td>10</td>\n",
              "      <td>3</td>\n",
              "      <td>F</td>\n",
              "      <td>81</td>\n",
              "      <td>4</td>\n",
              "      <td>1</td>\n",
              "      <td>Tecnico</td>\n",
              "      <td>1</td>\n",
              "      <td>Casado</td>\n",
              "      <td>2670</td>\n",
              "      <td>9964</td>\n",
              "      <td>4</td>\n",
              "      <td>1</td>\n",
              "      <td>Sim</td>\n",
              "      <td>20</td>\n",
              "      <td>4</td>\n",
              "      <td>1</td>\n",
              "      <td>80</td>\n",
              "      <td>3</td>\n",
              "      <td>12</td>\n",
              "      <td>3</td>\n",
              "      <td>2</td>\n",
              "      <td>1</td>\n",
              "      <td>0</td>\n",
              "      <td>0</td>\n",
              "      <td>0</td>\n",
              "      <td>Não</td>\n",
              "    </tr>\n",
              "  </tbody>\n",
              "</table>\n",
              "</div>"
            ],
            "text/plain": [
              "   Idade Local de trabalho  ...  Anos com a mesma gerência Contratar\n",
              "0     49           Cliente  ...                          7       Não\n",
              "1     33             Misto  ...                          0       Não\n",
              "2     27           Cliente  ...                          2       Não\n",
              "3     32             Misto  ...                          6       Não\n",
              "4     59             Misto  ...                          0       Não\n",
              "\n",
              "[5 rows x 35 columns]"
            ]
          },
          "metadata": {
            "tags": []
          },
          "execution_count": 212
        }
      ]
    },
    {
      "cell_type": "code",
      "metadata": {
        "id": "qss3VpdFThPY",
        "colab_type": "code",
        "colab": {}
      },
      "source": [
        "previsores = dataset_novo.values\n",
        "\n",
        "classe = dataset.loc[:, 'Contratar'].values"
      ],
      "execution_count": 362,
      "outputs": []
    },
    {
      "cell_type": "code",
      "metadata": {
        "id": "oXBZD6vvRcuw",
        "colab_type": "code",
        "colab": {}
      },
      "source": [
        "from sklearn.preprocessing import LabelEncoder, OneHotEncoder\n",
        "from imblearn.under_sampling import RandomUnderSampler"
      ],
      "execution_count": 363,
      "outputs": []
    },
    {
      "cell_type": "code",
      "metadata": {
        "id": "hOBRflWGSrHL",
        "colab_type": "code",
        "colab": {}
      },
      "source": [
        "labelEncoder_previsores = LabelEncoder()"
      ],
      "execution_count": 364,
      "outputs": []
    },
    {
      "cell_type": "code",
      "metadata": {
        "id": "IrKWF6KyS2r7",
        "colab_type": "code",
        "colab": {}
      },
      "source": [
        "previsores[:, 0] = labelEncoder_previsores.fit_transform(previsores[:,0])\n",
        "previsores[:, 1] = labelEncoder_previsores.fit_transform(previsores[:,1])\n",
        "previsores[:, 2] = labelEncoder_previsores.fit_transform(previsores[:,2])\n",
        "previsores[:, 3] = labelEncoder_previsores.fit_transform(previsores[:,3])\n",
        "previsores[:, 4] = labelEncoder_previsores.fit_transform(previsores[:,4])\n",
        "previsores[:, 5] = labelEncoder_previsores.fit_transform(previsores[:,5])\n",
        "previsores[:, 6] = labelEncoder_previsores.fit_transform(previsores[:,6])\n",
        "previsores[:, 7] = labelEncoder_previsores.fit_transform(previsores[:,7])"
      ],
      "execution_count": 365,
      "outputs": []
    },
    {
      "cell_type": "code",
      "metadata": {
        "id": "8LXolOk2S5Vh",
        "colab_type": "code",
        "colab": {}
      },
      "source": [
        "from sklearn.compose import ColumnTransformer"
      ],
      "execution_count": 366,
      "outputs": []
    },
    {
      "cell_type": "code",
      "metadata": {
        "id": "MIg7Z0Q4S7Uo",
        "colab_type": "code",
        "colab": {}
      },
      "source": [
        "column_transform = ColumnTransformer([(\"encoder\", \n",
        "                         OneHotEncoder(), \n",
        "                        [0,1,2,3,4,5,6,7])],    \n",
        "                       remainder = 'passthrough')"
      ],
      "execution_count": 367,
      "outputs": []
    },
    {
      "cell_type": "code",
      "metadata": {
        "id": "5URExPivS9an",
        "colab_type": "code",
        "colab": {}
      },
      "source": [
        "labelEncoder_classe = LabelEncoder()\n",
        "classe = labelEncoder_classe.fit_transform(classe)"
      ],
      "execution_count": 368,
      "outputs": []
    },
    {
      "cell_type": "code",
      "metadata": {
        "id": "QnwKU42HfvM_",
        "colab_type": "code",
        "colab": {
          "base_uri": "https://localhost:8080/",
          "height": 34
        },
        "outputId": "af411ac1-5507-4621-b393-ad399334a5ea"
      },
      "source": [
        "classe"
      ],
      "execution_count": 369,
      "outputs": [
        {
          "output_type": "execute_result",
          "data": {
            "text/plain": [
              "array([0, 0, 0, ..., 1, 1, 1])"
            ]
          },
          "metadata": {
            "tags": []
          },
          "execution_count": 369
        }
      ]
    },
    {
      "cell_type": "code",
      "metadata": {
        "id": "9vlbTmorS_FA",
        "colab_type": "code",
        "colab": {}
      },
      "source": [
        "from sklearn.preprocessing import StandardScaler"
      ],
      "execution_count": 370,
      "outputs": []
    },
    {
      "cell_type": "code",
      "metadata": {
        "id": "pDiYcMzuTDsN",
        "colab_type": "code",
        "colab": {}
      },
      "source": [
        "scaler = StandardScaler()\n",
        "\n",
        "previsores = scaler.fit_transform(previsores)"
      ],
      "execution_count": 371,
      "outputs": []
    },
    {
      "cell_type": "code",
      "metadata": {
        "id": "WJ0UZuRzfx8D",
        "colab_type": "code",
        "colab": {
          "base_uri": "https://localhost:8080/",
          "height": 34
        },
        "outputId": "8142983c-26f3-442a-89a1-6bc988a204f0"
      },
      "source": [
        "previsores.shape"
      ],
      "execution_count": 372,
      "outputs": [
        {
          "output_type": "execute_result",
          "data": {
            "text/plain": [
              "(1370, 16)"
            ]
          },
          "metadata": {
            "tags": []
          },
          "execution_count": 372
        }
      ]
    },
    {
      "cell_type": "code",
      "metadata": {
        "id": "w-mdvxdpvPmy",
        "colab_type": "code",
        "colab": {}
      },
      "source": [
        "#rus = RandomUnderSampler('all')\n",
        "#previsores, classe = rus.fit_sample(previsores, classe)\n"
      ],
      "execution_count": 373,
      "outputs": []
    },
    {
      "cell_type": "code",
      "metadata": {
        "id": "DDoF2tKXTHSg",
        "colab_type": "code",
        "colab": {}
      },
      "source": [
        "from sklearn.model_selection import train_test_split\n",
        "\n",
        "previsores_treinamento, previsores_teste, classe_treinamento, classe_teste = train_test_split(previsores, \n",
        "                                classe, \n",
        "                                test_size=0.30,\n",
        "                                random_state=30)"
      ],
      "execution_count": 394,
      "outputs": []
    },
    {
      "cell_type": "code",
      "metadata": {
        "id": "b34GEL3YTLsH",
        "colab_type": "code",
        "colab": {}
      },
      "source": [
        "from sklearn.linear_model import LogisticRegression\n",
        "from sklearn.metrics import confusion_matrix, accuracy_score\n",
        "from mlxtend.plotting import plot_confusion_matrix\n",
        "import collections "
      ],
      "execution_count": 387,
      "outputs": []
    },
    {
      "cell_type": "code",
      "metadata": {
        "id": "pVGfD8OWTN3K",
        "colab_type": "code",
        "colab": {}
      },
      "source": [
        "classificador = LogisticRegression()"
      ],
      "execution_count": 395,
      "outputs": []
    },
    {
      "cell_type": "code",
      "metadata": {
        "id": "7tPNVoU_stWW",
        "colab_type": "code",
        "colab": {}
      },
      "source": [
        "from sklearn.ensemble import RandomForestClassifier\n",
        "classificador = RandomForestClassifier(n_estimators=40,\n",
        "                              criterion='entropy', \n",
        "                              random_state=0)"
      ],
      "execution_count": 377,
      "outputs": []
    },
    {
      "cell_type": "code",
      "metadata": {
        "id": "I-sOirBnegkK",
        "colab_type": "code",
        "colab": {
          "base_uri": "https://localhost:8080/",
          "height": 340
        },
        "outputId": "2ee85b82-9908-481d-c97e-3462423c68c6"
      },
      "source": [
        "classificador.fit(previsores_treinamento, classe_treinamento)\n",
        "previsoes = classificador.predict(previsores_teste)\n",
        "previsoes"
      ],
      "execution_count": 396,
      "outputs": [
        {
          "output_type": "execute_result",
          "data": {
            "text/plain": [
              "array([0, 0, 0, 0, 0, 0, 0, 0, 0, 0, 0, 0, 0, 0, 0, 0, 0, 0, 0, 0, 0, 0,\n",
              "       0, 0, 0, 0, 0, 0, 0, 0, 0, 0, 0, 0, 0, 0, 0, 0, 0, 0, 0, 0, 1, 0,\n",
              "       0, 1, 0, 0, 0, 0, 1, 1, 1, 1, 0, 0, 0, 0, 0, 0, 0, 0, 0, 0, 0, 0,\n",
              "       0, 0, 0, 0, 0, 0, 0, 0, 0, 0, 0, 0, 0, 0, 0, 0, 0, 0, 0, 0, 0, 0,\n",
              "       0, 0, 0, 1, 0, 0, 0, 0, 0, 0, 0, 0, 0, 0, 0, 0, 0, 0, 0, 0, 0, 0,\n",
              "       0, 0, 0, 0, 0, 0, 1, 0, 0, 0, 0, 0, 0, 0, 0, 0, 0, 0, 0, 0, 0, 0,\n",
              "       0, 0, 0, 0, 0, 1, 0, 0, 0, 0, 0, 0, 0, 0, 0, 0, 0, 0, 0, 0, 0, 0,\n",
              "       0, 0, 0, 0, 0, 0, 0, 0, 0, 0, 0, 0, 0, 0, 0, 0, 0, 0, 0, 0, 0, 0,\n",
              "       0, 0, 0, 0, 0, 0, 0, 0, 0, 0, 0, 0, 0, 0, 0, 0, 0, 0, 0, 0, 0, 0,\n",
              "       0, 0, 0, 0, 0, 0, 0, 0, 0, 0, 0, 0, 0, 0, 0, 1, 0, 1, 0, 0, 1, 0,\n",
              "       0, 0, 0, 0, 0, 0, 0, 0, 0, 0, 0, 0, 0, 0, 0, 0, 0, 0, 0, 0, 0, 1,\n",
              "       0, 0, 0, 0, 0, 1, 0, 0, 0, 0, 0, 0, 0, 0, 0, 0, 0, 0, 0, 0, 0, 0,\n",
              "       0, 0, 0, 0, 0, 0, 0, 0, 0, 0, 0, 0, 0, 0, 0, 1, 0, 0, 0, 0, 0, 0,\n",
              "       0, 0, 0, 0, 0, 0, 0, 0, 0, 0, 0, 0, 0, 0, 0, 0, 0, 0, 0, 0, 0, 0,\n",
              "       0, 0, 0, 0, 0, 0, 0, 0, 0, 1, 0, 0, 0, 0, 0, 0, 0, 0, 0, 1, 1, 0,\n",
              "       0, 0, 0, 0, 0, 0, 0, 0, 0, 0, 0, 0, 0, 0, 0, 0, 0, 0, 0, 0, 0, 0,\n",
              "       0, 0, 0, 0, 0, 0, 0, 0, 0, 0, 0, 0, 0, 0, 0, 0, 0, 0, 0, 0, 0, 0,\n",
              "       0, 0, 0, 0, 0, 0, 0, 0, 0, 0, 0, 0, 0, 0, 0, 0, 0, 0, 0, 0, 0, 0,\n",
              "       0, 0, 0, 0, 0, 0, 0, 0, 0, 0, 0, 0, 0, 0, 0])"
            ]
          },
          "metadata": {
            "tags": []
          },
          "execution_count": 396
        }
      ]
    },
    {
      "cell_type": "code",
      "metadata": {
        "id": "H58fjL7cTRZc",
        "colab_type": "code",
        "colab": {
          "base_uri": "https://localhost:8080/",
          "height": 34
        },
        "outputId": "d0045481-7869-4004-9dac-6608e8f4ad8c"
      },
      "source": [
        "precisao = accuracy_score(classe_teste, previsoes)\n",
        "precisao"
      ],
      "execution_count": 397,
      "outputs": [
        {
          "output_type": "execute_result",
          "data": {
            "text/plain": [
              "0.8807785888077859"
            ]
          },
          "metadata": {
            "tags": []
          },
          "execution_count": 397
        }
      ]
    },
    {
      "cell_type": "code",
      "metadata": {
        "id": "q3c0bRzEheHi",
        "colab_type": "code",
        "colab": {
          "base_uri": "https://localhost:8080/",
          "height": 85
        },
        "outputId": "c741fb92-4328-4ece-f81d-a8b798da3852"
      },
      "source": [
        "classificador.coef_"
      ],
      "execution_count": 398,
      "outputs": [
        {
          "output_type": "execute_result",
          "data": {
            "text/plain": [
              "array([[ 0.69450924, -0.06484598, -0.11766394,  0.14999923, -0.04640271,\n",
              "         0.24119325,  0.28591687,  0.29133814, -0.22072603, -0.36316328,\n",
              "        -0.30817166,  0.23247864, -0.13122763, -0.42232768, -0.33601728,\n",
              "         0.73028784]])"
            ]
          },
          "metadata": {
            "tags": []
          },
          "execution_count": 398
        }
      ]
    },
    {
      "cell_type": "code",
      "metadata": {
        "id": "jY4IVN9TTUBf",
        "colab_type": "code",
        "colab": {
          "base_uri": "https://localhost:8080/",
          "height": 51
        },
        "outputId": "7a565c72-5f79-4d67-f0f4-ca6cd47c6b9a"
      },
      "source": [
        "matriz = confusion_matrix(classe_teste, previsoes)\n",
        "matriz"
      ],
      "execution_count": 399,
      "outputs": [
        {
          "output_type": "execute_result",
          "data": {
            "text/plain": [
              "array([[349,   5],\n",
              "       [ 44,  13]])"
            ]
          },
          "metadata": {
            "tags": []
          },
          "execution_count": 399
        }
      ]
    },
    {
      "cell_type": "code",
      "metadata": {
        "id": "slJxkWQITwru",
        "colab_type": "code",
        "colab": {
          "base_uri": "https://localhost:8080/",
          "height": 279
        },
        "outputId": "4a2808e9-b011-483b-ea5d-0bcf07fb38da"
      },
      "source": [
        "fig, ax = plot_confusion_matrix(conf_mat=matriz)\n",
        "plt.show()"
      ],
      "execution_count": 400,
      "outputs": [
        {
          "output_type": "display_data",
          "data": {
            "image/png": "[encoded data removed]",
            "text/plain": [
              "<Figure size 432x288 with 1 Axes>"
            ]
          },
          "metadata": {
            "tags": [],
            "needs_background": "light"
          }
        }
      ]
    },
    {
      "cell_type": "code",
      "metadata": {
        "id": "2U3dP9QZTavE",
        "colab_type": "code",
        "colab": {
          "base_uri": "https://localhost:8080/",
          "height": 34
        },
        "outputId": "65a0c196-0571-4a0b-ae6e-8d8c4d7ad100"
      },
      "source": [
        "print(collections.Counter(classe_teste))"
      ],
      "execution_count": 401,
      "outputs": [
        {
          "output_type": "stream",
          "text": [
            "Counter({0: 354, 1: 57})\n"
          ],
          "name": "stdout"
        }
      ]
    },
    {
      "cell_type": "markdown",
      "metadata": {
        "id": "9dvaAHhfojn4",
        "colab_type": "text"
      },
      "source": [
        "K-FOLD"
      ]
    },
    {
      "cell_type": "code",
      "metadata": {
        "id": "P9UOS21Xd13j",
        "colab_type": "code",
        "colab": {}
      },
      "source": [
        "from sklearn.model_selection import train_test_split\n",
        "\n",
        "x = previsores\n",
        "y = classe\n",
        "x_train, x_test, y_train, y_test = train_test_split(previsores, classe, test_size = 0.33, random_state = 42)"
      ],
      "execution_count": 258,
      "outputs": []
    },
    {
      "cell_type": "code",
      "metadata": {
        "id": "E-rIjXg1ofeU",
        "colab_type": "code",
        "colab": {}
      },
      "source": [
        "from sklearn.ensemble import RandomForestClassifier\n",
        "rfc = RandomForestClassifier(n_estimators=45,\n",
        "                              criterion='entropy', \n",
        "                              random_state=0)\n",
        "rfc.fit(x_train, y_train)\n",
        "y_pred = rfc.predict(x_test)"
      ],
      "execution_count": 302,
      "outputs": []
    },
    {
      "cell_type": "code",
      "metadata": {
        "id": "n2-4STpOooBC",
        "colab_type": "code",
        "colab": {}
      },
      "source": [
        "from sklearn.metrics import accuracy_score, recall_score, precision_score\n",
        "\n",
        "rfc_acc = round(accuracy_score(y_test, y_pred), 6)\n",
        "rfc_recall = round(recall_score(y_test, y_pred, average = 'weighted'), 6)\n",
        "rfc_precision = round(precision_score(y_test, y_pred, average = 'weighted'), 6)"
      ],
      "execution_count": 303,
      "outputs": []
    },
    {
      "cell_type": "code",
      "metadata": {
        "id": "qZ3lntMjorBl",
        "colab_type": "code",
        "colab": {}
      },
      "source": [
        "from sklearn.neighbors import KNeighborsClassifier\n",
        "knn = KNeighborsClassifier(n_neighbors=3)\n",
        "knn.fit(x_train, y_train)\n",
        "y_pred = knn.predict(x_test)"
      ],
      "execution_count": 304,
      "outputs": []
    },
    {
      "cell_type": "code",
      "metadata": {
        "id": "gfHA6dIpotoP",
        "colab_type": "code",
        "colab": {}
      },
      "source": [
        "knn_acc = round(accuracy_score(y_test, y_pred), 6)\n",
        "knn_recall = round(recall_score(y_test, y_pred, average='weighted'), 6)\n",
        "knn_precision = round(precision_score(y_test, y_pred, average='weighted'), 6)"
      ],
      "execution_count": 305,
      "outputs": []
    },
    {
      "cell_type": "code",
      "metadata": {
        "id": "iSdkhBQeo0MB",
        "colab_type": "code",
        "colab": {}
      },
      "source": [
        "from sklearn.linear_model import LogisticRegression\n",
        "lg = LogisticRegression()\n",
        "lg.fit(x_train, y_train)\n",
        "y_pred = lg.predict(x_test)"
      ],
      "execution_count": 306,
      "outputs": []
    },
    {
      "cell_type": "code",
      "metadata": {
        "id": "XKeGVuWFo1zB",
        "colab_type": "code",
        "colab": {}
      },
      "source": [
        "lg_acc = round(accuracy_score(y_test, y_pred), 6)\n",
        "lg_recall = round(recall_score(y_test, y_pred, average='weighted'), 6)\n",
        "lg_precision = round(precision_score(y_test, y_pred, average='weighted'), 6)"
      ],
      "execution_count": 307,
      "outputs": []
    },
    {
      "cell_type": "code",
      "metadata": {
        "id": "347vCwJFo4Jf",
        "colab_type": "code",
        "colab": {}
      },
      "source": [
        "from sklearn.tree import DecisionTreeClassifier\n",
        "dtc = DecisionTreeClassifier(criterion = 'entropy', \n",
        "                                       random_state = 0)\n",
        "dtc.fit(x_train, y_train)\n",
        "y_pred = dtc.predict(x_test)"
      ],
      "execution_count": 308,
      "outputs": []
    },
    {
      "cell_type": "code",
      "metadata": {
        "id": "aO9up2bto6dC",
        "colab_type": "code",
        "colab": {}
      },
      "source": [
        "dtc_acc = round(accuracy_score(y_test, y_pred), 6)\n",
        "dtc_recall = round(recall_score(y_test, y_pred, average='weighted'), 6)\n",
        "dtc_precision = round(precision_score(y_test, y_pred, average='weighted'), 6)"
      ],
      "execution_count": 309,
      "outputs": []
    },
    {
      "cell_type": "code",
      "metadata": {
        "id": "DFu0HluVp_Ur",
        "colab_type": "code",
        "colab": {
          "base_uri": "https://localhost:8080/",
          "height": 136
        },
        "outputId": "d01b428f-ae2d-495c-cef9-2733ecd385e7"
      },
      "source": [
        "print(\"KNN vs Random Forests vs LogisticRegression vs DecisionTreeClassifier \\n\")\n",
        "print(\"Classes: {0}\\n\".format(dataset['Contratar'].name))\n",
        "print(\"Acurácia: {0} vs {1} vs {2} vs {3}\".format(knn_acc, rfc_acc, lg_acc, dtc_acc))\n",
        "print(\"Recall: {0} vs {1} vs {2} vs {3}\".format(knn_recall, rfc_recall, lg_recall, dtc_recall))\n",
        "print(\"Precisão: {0} vs {1} vs {2} vs {3}\".format(knn_precision, rfc_precision, lg_precision, dtc_precision))"
      ],
      "execution_count": 310,
      "outputs": [
        {
          "output_type": "stream",
          "text": [
            "KNN vs Random Forests vs LogisticRegression vs DecisionTreeClassifier \n",
            "\n",
            "Classes: Contratar\n",
            "\n",
            "Acurácia: 0.834437 vs 0.889625 vs 0.88521 vs 0.816777\n",
            "Recall: 0.834437 vs 0.889625 vs 0.88521 vs 0.816777\n",
            "Precisão: 0.80985 vs 0.875543 vs 0.867935 vs 0.847918\n"
          ],
          "name": "stdout"
        }
      ]
    },
    {
      "cell_type": "code",
      "metadata": {
        "id": "RkTQ1mhUpZD9",
        "colab_type": "code",
        "colab": {
          "base_uri": "https://localhost:8080/",
          "height": 71
        },
        "outputId": "f686c5c5-e617-447d-f840-a99bc8a41043"
      },
      "source": [
        "from sklearn.model_selection import cross_val_score\n",
        "\n",
        "# Para especificar o k-fold, pode passar o parâmetro cv=valor numérico da quantidade\n",
        "cv_rfc = cross_val_score(rfc, x, y)\n",
        "cv_knn = cross_val_score(knn, x, y)\n",
        "cv_lg = cross_val_score(knn, x, y)\n",
        "cv_dtc = cross_val_score(knn, x, y)\n",
        "print(\"\\nValidação cruzada: {0} vs {1} vs {2} vs {3}\".format(cv_knn, cv_rfc, cv_lg, cv_dtc))"
      ],
      "execution_count": 311,
      "outputs": [
        {
          "output_type": "stream",
          "text": [
            "\n",
            "Validação cruzada: [0.87956204 0.84671533 0.83941606 0.84306569 0.85766423] vs [0.86861314 0.87591241 0.88321168 0.8540146  0.86861314] vs [0.87956204 0.84671533 0.83941606 0.84306569 0.85766423] vs [0.87956204 0.84671533 0.83941606 0.84306569 0.85766423]\n"
          ],
          "name": "stdout"
        }
      ]
    },
    {
      "cell_type": "code",
      "metadata": {
        "id": "b-fTTQX0pbc_",
        "colab_type": "code",
        "colab": {
          "base_uri": "https://localhost:8080/",
          "height": 51
        },
        "outputId": "d12ee56e-6163-4cad-b859-b49d0e181d45"
      },
      "source": [
        "sum_cv_rfc = 0\n",
        "for cv_score in cv_rfc:\n",
        "  sum_cv_rfc += cv_score;\n",
        "\n",
        "print(\"\\nResultado Random Forest: {0}\".format(sum_cv_rfc/5))"
      ],
      "execution_count": 312,
      "outputs": [
        {
          "output_type": "stream",
          "text": [
            "\n",
            "Resultado Random Forest: 0.87007299270073\n"
          ],
          "name": "stdout"
        }
      ]
    },
    {
      "cell_type": "code",
      "metadata": {
        "id": "NxNpyqNDpeva",
        "colab_type": "code",
        "colab": {
          "base_uri": "https://localhost:8080/",
          "height": 51
        },
        "outputId": "d726c2cf-8510-4eee-e954-ce6bdd094428"
      },
      "source": [
        "sum_cv_knn = 0\n",
        "for cv_score in cv_knn:\n",
        "  sum_cv_knn += cv_score;\n",
        "\n",
        "print(\"\\nResultado KNN: {0}\".format(sum_cv_knn/5))"
      ],
      "execution_count": 313,
      "outputs": [
        {
          "output_type": "stream",
          "text": [
            "\n",
            "Resultado KNN: 0.8532846715328468\n"
          ],
          "name": "stdout"
        }
      ]
    },
    {
      "cell_type": "code",
      "metadata": {
        "id": "IV7Ykw-rq3bz",
        "colab_type": "code",
        "colab": {
          "base_uri": "https://localhost:8080/",
          "height": 51
        },
        "outputId": "318c42c2-dc9c-407d-c44d-3da7256c4926"
      },
      "source": [
        "sum_cv_lg = 0\n",
        "for cv_score in cv_lg:\n",
        "  sum_cv_lg += cv_score;\n",
        "\n",
        "print(\"\\nResultado KNN: {0}\".format(sum_cv_lg/5))"
      ],
      "execution_count": 314,
      "outputs": [
        {
          "output_type": "stream",
          "text": [
            "\n",
            "Resultado KNN: 0.8532846715328468\n"
          ],
          "name": "stdout"
        }
      ]
    },
    {
      "cell_type": "code",
      "metadata": {
        "id": "5fPtxWPPq4nD",
        "colab_type": "code",
        "colab": {
          "base_uri": "https://localhost:8080/",
          "height": 51
        },
        "outputId": "88c9b266-2622-4ad3-83d5-c8494a90534d"
      },
      "source": [
        "sum_cv_dtc = 0\n",
        "for cv_score in cv_dtc:\n",
        "  sum_cv_dtc += cv_score;\n",
        "\n",
        "print(\"\\nResultado KNN: {0}\".format(sum_cv_dtc/5))"
      ],
      "execution_count": 315,
      "outputs": [
        {
          "output_type": "stream",
          "text": [
            "\n",
            "Resultado KNN: 0.8532846715328468\n"
          ],
          "name": "stdout"
        }
      ]
    },
    {
      "cell_type": "code",
      "metadata": {
        "id": "U4PblmWlsLhp",
        "colab_type": "code",
        "colab": {}
      },
      "source": [
        ""
      ],
      "execution_count": null,
      "outputs": []
    }
  ]
}