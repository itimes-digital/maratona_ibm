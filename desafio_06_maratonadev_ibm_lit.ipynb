{
  "nbformat": 4,
  "nbformat_minor": 0,
  "metadata": {
    "kernelspec": {
      "display_name": "Python 3.6",
      "language": "python",
      "name": "python3"
    },
    "language_info": {
      "codemirror_mode": {
        "name": "ipython",
        "version": 3
      },
      "file_extension": ".py",
      "mimetype": "text/x-python",
      "name": "python",
      "nbconvert_exporter": "python",
      "pygments_lexer": "ipython3",
      "version": "3.6.9"
    },
    "colab": {
      "name": "desafio_06_maratonadev_ibm_lit.ipynb",
      "provenance": [],
      "include_colab_link": true
    }
  },
  "cells": [
    {
      "cell_type": "markdown",
      "metadata": {
        "id": "view-in-github",
        "colab_type": "text"
      },
      "source": [
        "<a href=\"https://colab.research.google.com/github/itimes-digital/maratona_ibm/blob/master/desafio_06_maratonadev_ibm_lit.ipynb\" target=\"_parent\"><img src=\"https://colab.research.google.com/assets/colab-badge.svg\" alt=\"Open In Colab\"/></a>"
      ]
    },
    {
      "cell_type": "code",
      "metadata": {
        "id": "BHR0Ma3aZSoZ",
        "colab_type": "code",
        "colab": {}
      },
      "source": [
        ""
      ],
      "execution_count": null,
      "outputs": []
    },
    {
      "cell_type": "markdown",
      "metadata": {
        "collapsed": true,
        "id": "VojQJ45bZSoc",
        "colab_type": "text"
      },
      "source": [
        "# MARATONA BEHIND THE CODE 2020\n",
        "\n",
        "## DESAFIO 6 - LIT"
      ]
    },
    {
      "cell_type": "markdown",
      "metadata": {
        "id": "5N1rUiX4ZSod",
        "colab_type": "text"
      },
      "source": [
        "<hr>"
      ]
    },
    {
      "cell_type": "markdown",
      "metadata": {
        "id": "RtB-4-_OZSoe",
        "colab_type": "text"
      },
      "source": [
        "## Installing Libs"
      ]
    },
    {
      "cell_type": "code",
      "metadata": {
        "id": "iILcCjaLZSoe",
        "colab_type": "code",
        "colab": {}
      },
      "source": [
        "!pip install scikit-learn --upgrade"
      ],
      "execution_count": null,
      "outputs": []
    },
    {
      "cell_type": "code",
      "metadata": {
        "id": "Yx7ArKjqZSoh",
        "colab_type": "code",
        "colab": {}
      },
      "source": [
        "!pip install xgboost --upgrade"
      ],
      "execution_count": null,
      "outputs": []
    },
    {
      "cell_type": "code",
      "metadata": {
        "id": "kjm3slnSZSok",
        "colab_type": "code",
        "colab": {}
      },
      "source": [
        "!pip install imblearn --upgrade"
      ],
      "execution_count": null,
      "outputs": []
    },
    {
      "cell_type": "markdown",
      "metadata": {
        "id": "TWWZHp9JZSon",
        "colab_type": "text"
      },
      "source": [
        "<hr>"
      ]
    },
    {
      "cell_type": "markdown",
      "metadata": {
        "id": "EUXxhqhqZSon",
        "colab_type": "text"
      },
      "source": [
        "## Download dos conjuntos de dados em formato .csv"
      ]
    },
    {
      "cell_type": "code",
      "metadata": {
        "id": "YGhI82nHZSoo",
        "colab_type": "code",
        "colab": {}
      },
      "source": [
        "import pandas as pd"
      ],
      "execution_count": 2,
      "outputs": []
    },
    {
      "cell_type": "code",
      "metadata": {
        "id": "1DADyrTCZSoq",
        "colab_type": "code",
        "colab": {
          "base_uri": "https://localhost:8080/",
          "height": 445
        },
        "outputId": "41799c4a-8778-4d81-d0cd-2926f68f2661"
      },
      "source": [
        "!wget --no-check-certificate --content-disposition https://raw.githubusercontent.com/vanderlei-test/dataset-3/master/training_dataset.csv\n",
        "df_training_dataset = pd.read_csv(r'training_dataset.csv')\n",
        "df_training_dataset.tail()"
      ],
      "execution_count": 3,
      "outputs": [
        {
          "output_type": "stream",
          "text": [
            "--2020-08-31 16:42:00--  https://raw.githubusercontent.com/vanderlei-test/dataset-3/master/training_dataset.csv\n",
            "Resolving raw.githubusercontent.com (raw.githubusercontent.com)... 151.101.0.133, 151.101.64.133, 151.101.128.133, ...\n",
            "Connecting to raw.githubusercontent.com (raw.githubusercontent.com)|151.101.0.133|:443... connected.\n",
            "HTTP request sent, awaiting response... 200 OK\n",
            "Length: 1736600 (1.7M) [text/plain]\n",
            "Saving to: ‘training_dataset.csv.1’\n",
            "\n",
            "training_dataset.cs 100%[===================>]   1.66M  --.-KB/s    in 0.1s    \n",
            "\n",
            "2020-08-31 16:42:01 (12.7 MB/s) - ‘training_dataset.csv.1’ saved [1736600/1736600]\n",
            "\n"
          ],
          "name": "stdout"
        },
        {
          "output_type": "execute_result",
          "data": {
            "text/html": [
              "<div>\n",
              "<style scoped>\n",
              "    .dataframe tbody tr th:only-of-type {\n",
              "        vertical-align: middle;\n",
              "    }\n",
              "\n",
              "    .dataframe tbody tr th {\n",
              "        vertical-align: top;\n",
              "    }\n",
              "\n",
              "    .dataframe thead th {\n",
              "        text-align: right;\n",
              "    }\n",
              "</style>\n",
              "<table border=\"1\" class=\"dataframe\">\n",
              "  <thead>\n",
              "    <tr style=\"text-align: right;\">\n",
              "      <th></th>\n",
              "      <th>id</th>\n",
              "      <th>graduacao</th>\n",
              "      <th>universidade</th>\n",
              "      <th>profissao</th>\n",
              "      <th>organizacao</th>\n",
              "      <th>pretende_fazer_cursos_lit</th>\n",
              "      <th>interesse_mba_lit</th>\n",
              "      <th>importante_ter_certificado</th>\n",
              "      <th>horas_semanais_estudo</th>\n",
              "      <th>como_conheceu_lit</th>\n",
              "      <th>total_modulos</th>\n",
              "      <th>modulos_iniciados</th>\n",
              "      <th>modulos_finalizados</th>\n",
              "      <th>certificados</th>\n",
              "      <th>categoria</th>\n",
              "    </tr>\n",
              "  </thead>\n",
              "  <tbody>\n",
              "    <tr>\n",
              "      <th>15852</th>\n",
              "      <td>620397030.0</td>\n",
              "      <td>Bacharelado</td>\n",
              "      <td>UFF</td>\n",
              "      <td>Outros</td>\n",
              "      <td>Borracha</td>\n",
              "      <td>0.0</td>\n",
              "      <td>0.0</td>\n",
              "      <td>1.0</td>\n",
              "      <td>8.0</td>\n",
              "      <td>NaN</td>\n",
              "      <td>10.0</td>\n",
              "      <td>NaN</td>\n",
              "      <td>NaN</td>\n",
              "      <td>NaN</td>\n",
              "      <td>perfil6</td>\n",
              "    </tr>\n",
              "    <tr>\n",
              "      <th>15853</th>\n",
              "      <td>229931283.0</td>\n",
              "      <td>Bacharelado</td>\n",
              "      <td>NaN</td>\n",
              "      <td>Advogado</td>\n",
              "      <td>NaN</td>\n",
              "      <td>0.0</td>\n",
              "      <td>0.0</td>\n",
              "      <td>1.0</td>\n",
              "      <td>7.0</td>\n",
              "      <td>Linkedin</td>\n",
              "      <td>42.0</td>\n",
              "      <td>17.0</td>\n",
              "      <td>15.0</td>\n",
              "      <td>NaN</td>\n",
              "      <td>perfil5</td>\n",
              "    </tr>\n",
              "    <tr>\n",
              "      <th>15854</th>\n",
              "      <td>480674907.0</td>\n",
              "      <td>Tecnólogo</td>\n",
              "      <td>UNIP</td>\n",
              "      <td>Sócio/Dono/Proprietário</td>\n",
              "      <td>NaN</td>\n",
              "      <td>0.0</td>\n",
              "      <td>NaN</td>\n",
              "      <td>1.0</td>\n",
              "      <td>7.0</td>\n",
              "      <td>Outros</td>\n",
              "      <td>30.0</td>\n",
              "      <td>9.0</td>\n",
              "      <td>8.0</td>\n",
              "      <td>0.0</td>\n",
              "      <td>perfil5</td>\n",
              "    </tr>\n",
              "    <tr>\n",
              "      <th>15855</th>\n",
              "      <td>559626807.0</td>\n",
              "      <td>SEM FORMAÇÃO</td>\n",
              "      <td>UNIVERSIDADE NOVE DE JULHO</td>\n",
              "      <td>Advogado</td>\n",
              "      <td>Estado</td>\n",
              "      <td>0.0</td>\n",
              "      <td>0.0</td>\n",
              "      <td>1.0</td>\n",
              "      <td>10.0</td>\n",
              "      <td>NaN</td>\n",
              "      <td>226.0</td>\n",
              "      <td>102.0</td>\n",
              "      <td>93.0</td>\n",
              "      <td>1.0</td>\n",
              "      <td>perfil1</td>\n",
              "    </tr>\n",
              "    <tr>\n",
              "      <th>15856</th>\n",
              "      <td>743652801.0</td>\n",
              "      <td>NaN</td>\n",
              "      <td>FGV-RJ</td>\n",
              "      <td>NaN</td>\n",
              "      <td>Siderurgica</td>\n",
              "      <td>1.0</td>\n",
              "      <td>1.0</td>\n",
              "      <td>1.0</td>\n",
              "      <td>9.0</td>\n",
              "      <td>Outros</td>\n",
              "      <td>125.0</td>\n",
              "      <td>98.0</td>\n",
              "      <td>97.0</td>\n",
              "      <td>1.0</td>\n",
              "      <td>perfil1</td>\n",
              "    </tr>\n",
              "  </tbody>\n",
              "</table>\n",
              "</div>"
            ],
            "text/plain": [
              "                id     graduacao  ... certificados categoria\n",
              "15852  620397030.0   Bacharelado  ...          NaN   perfil6\n",
              "15853  229931283.0   Bacharelado  ...          NaN   perfil5\n",
              "15854  480674907.0     Tecnólogo  ...          0.0   perfil5\n",
              "15855  559626807.0  SEM FORMAÇÃO  ...          1.0   perfil1\n",
              "15856  743652801.0           NaN  ...          1.0   perfil1\n",
              "\n",
              "[5 rows x 15 columns]"
            ]
          },
          "metadata": {
            "tags": []
          },
          "execution_count": 3
        }
      ]
    },
    {
      "cell_type": "markdown",
      "metadata": {
        "id": "eeRH43G6ZSot",
        "colab_type": "text"
      },
      "source": [
        "Sobre o arquivo \"training_dataset.csv\", temos algumas informações gerais sobre os usuários da plataforma:\n",
        "\n",
        "**id**\n",
        "\n",
        "**graduacao**\n",
        "\n",
        "**universidade**\n",
        "\n",
        "**profissao**\n",
        "\n",
        "**organizacao**\n",
        "\n",
        "**pretende_fazer_cursos_lit**\n",
        "\n",
        "**interesse_mba_lit**\n",
        "\n",
        "**importante_ter_certificado**\n",
        "\n",
        "**horas_semanais_estudo**\n",
        "\n",
        "**como_conheceu_lit**\n",
        "\n",
        "**total_modulos**\n",
        "\n",
        "**modulos_iniciados**\n",
        "\n",
        "**modulos_finalizados**\n",
        "\n",
        "**certificados**\n",
        "\n",
        "**categoria**"
      ]
    },
    {
      "cell_type": "code",
      "metadata": {
        "id": "qCikc7S9ZSou",
        "colab_type": "code",
        "colab": {
          "base_uri": "https://localhost:8080/",
          "height": 391
        },
        "outputId": "e8bce5cc-d1dc-4b61-a5e6-b1f1eb7e2a6b"
      },
      "source": [
        "df_training_dataset.info()"
      ],
      "execution_count": 4,
      "outputs": [
        {
          "output_type": "stream",
          "text": [
            "<class 'pandas.core.frame.DataFrame'>\n",
            "RangeIndex: 15857 entries, 0 to 15856\n",
            "Data columns (total 15 columns):\n",
            " #   Column                      Non-Null Count  Dtype  \n",
            "---  ------                      --------------  -----  \n",
            " 0   id                          13945 non-null  float64\n",
            " 1   graduacao                   13950 non-null  object \n",
            " 2   universidade                13920 non-null  object \n",
            " 3   profissao                   13977 non-null  object \n",
            " 4   organizacao                 13961 non-null  object \n",
            " 5   pretende_fazer_cursos_lit   13989 non-null  float64\n",
            " 6   interesse_mba_lit           14003 non-null  float64\n",
            " 7   importante_ter_certificado  13918 non-null  float64\n",
            " 8   horas_semanais_estudo       13959 non-null  float64\n",
            " 9   como_conheceu_lit           13915 non-null  object \n",
            " 10  total_modulos               13987 non-null  float64\n",
            " 11  modulos_iniciados           14044 non-null  float64\n",
            " 12  modulos_finalizados         13924 non-null  float64\n",
            " 13  certificados                13979 non-null  float64\n",
            " 14  categoria                   15857 non-null  object \n",
            "dtypes: float64(9), object(6)\n",
            "memory usage: 1.8+ MB\n"
          ],
          "name": "stdout"
        }
      ]
    },
    {
      "cell_type": "code",
      "metadata": {
        "id": "M8yVHXfRZSox",
        "colab_type": "code",
        "colab": {
          "base_uri": "https://localhost:8080/",
          "height": 289
        },
        "outputId": "6203184b-db26-4be6-bf48-ae5bc1a5c06f"
      },
      "source": [
        "df_training_dataset.nunique()"
      ],
      "execution_count": 5,
      "outputs": [
        {
          "output_type": "execute_result",
          "data": {
            "text/plain": [
              "id                            13945\n",
              "graduacao                         6\n",
              "universidade                     21\n",
              "profissao                        12\n",
              "organizacao                      11\n",
              "pretende_fazer_cursos_lit         2\n",
              "interesse_mba_lit                 2\n",
              "importante_ter_certificado        1\n",
              "horas_semanais_estudo             9\n",
              "como_conheceu_lit                 9\n",
              "total_modulos                   578\n",
              "modulos_iniciados               372\n",
              "modulos_finalizados             339\n",
              "certificados                     23\n",
              "categoria                         6\n",
              "dtype: int64"
            ]
          },
          "metadata": {
            "tags": []
          },
          "execution_count": 5
        }
      ]
    },
    {
      "cell_type": "code",
      "metadata": {
        "id": "wr3y8dagd9da",
        "colab_type": "code",
        "colab": {
          "base_uri": "https://localhost:8080/",
          "height": 541
        },
        "outputId": "8767190d-c102-4307-e068-2c1735413a11"
      },
      "source": [
        "df_training_dataset[df_training_dataset['id'].isnull()]"
      ],
      "execution_count": 6,
      "outputs": [
        {
          "output_type": "execute_result",
          "data": {
            "text/html": [
              "<div>\n",
              "<style scoped>\n",
              "    .dataframe tbody tr th:only-of-type {\n",
              "        vertical-align: middle;\n",
              "    }\n",
              "\n",
              "    .dataframe tbody tr th {\n",
              "        vertical-align: top;\n",
              "    }\n",
              "\n",
              "    .dataframe thead th {\n",
              "        text-align: right;\n",
              "    }\n",
              "</style>\n",
              "<table border=\"1\" class=\"dataframe\">\n",
              "  <thead>\n",
              "    <tr style=\"text-align: right;\">\n",
              "      <th></th>\n",
              "      <th>id</th>\n",
              "      <th>graduacao</th>\n",
              "      <th>universidade</th>\n",
              "      <th>profissao</th>\n",
              "      <th>organizacao</th>\n",
              "      <th>pretende_fazer_cursos_lit</th>\n",
              "      <th>interesse_mba_lit</th>\n",
              "      <th>importante_ter_certificado</th>\n",
              "      <th>horas_semanais_estudo</th>\n",
              "      <th>como_conheceu_lit</th>\n",
              "      <th>total_modulos</th>\n",
              "      <th>modulos_iniciados</th>\n",
              "      <th>modulos_finalizados</th>\n",
              "      <th>certificados</th>\n",
              "      <th>categoria</th>\n",
              "    </tr>\n",
              "  </thead>\n",
              "  <tbody>\n",
              "    <tr>\n",
              "      <th>8</th>\n",
              "      <td>NaN</td>\n",
              "      <td>Bacharelado</td>\n",
              "      <td>USP</td>\n",
              "      <td>Engenheiro</td>\n",
              "      <td>Eletrodomesticos</td>\n",
              "      <td>NaN</td>\n",
              "      <td>NaN</td>\n",
              "      <td>1.0</td>\n",
              "      <td>3.0</td>\n",
              "      <td>Saint Paul</td>\n",
              "      <td>131.0</td>\n",
              "      <td>38.0</td>\n",
              "      <td>20.0</td>\n",
              "      <td>0.0</td>\n",
              "      <td>perfil3</td>\n",
              "    </tr>\n",
              "    <tr>\n",
              "      <th>10</th>\n",
              "      <td>NaN</td>\n",
              "      <td>Tecnólogo</td>\n",
              "      <td>UNIVERSIDADE PRESBITERIANA MACKENZIE</td>\n",
              "      <td>Analista</td>\n",
              "      <td>Eletrodomesticos</td>\n",
              "      <td>1.0</td>\n",
              "      <td>1.0</td>\n",
              "      <td>1.0</td>\n",
              "      <td>3.0</td>\n",
              "      <td>Google</td>\n",
              "      <td>10.0</td>\n",
              "      <td>5.0</td>\n",
              "      <td>1.0</td>\n",
              "      <td>0.0</td>\n",
              "      <td>perfil6</td>\n",
              "    </tr>\n",
              "    <tr>\n",
              "      <th>30</th>\n",
              "      <td>NaN</td>\n",
              "      <td>Licenciatura</td>\n",
              "      <td>UNIVERSIDADE NOVE DE JULHO</td>\n",
              "      <td>Coordenador</td>\n",
              "      <td>Eletrodomesticos</td>\n",
              "      <td>0.0</td>\n",
              "      <td>0.0</td>\n",
              "      <td>1.0</td>\n",
              "      <td>NaN</td>\n",
              "      <td>Instagram</td>\n",
              "      <td>98.0</td>\n",
              "      <td>88.0</td>\n",
              "      <td>75.0</td>\n",
              "      <td>0.0</td>\n",
              "      <td>perfil6</td>\n",
              "    </tr>\n",
              "    <tr>\n",
              "      <th>31</th>\n",
              "      <td>NaN</td>\n",
              "      <td>Bacharelado</td>\n",
              "      <td>UNIP</td>\n",
              "      <td>Diretor</td>\n",
              "      <td>servicos</td>\n",
              "      <td>0.0</td>\n",
              "      <td>0.0</td>\n",
              "      <td>1.0</td>\n",
              "      <td>8.0</td>\n",
              "      <td>Saint Paul</td>\n",
              "      <td>49.0</td>\n",
              "      <td>5.0</td>\n",
              "      <td>2.0</td>\n",
              "      <td>0.0</td>\n",
              "      <td>perfil6</td>\n",
              "    </tr>\n",
              "    <tr>\n",
              "      <th>33</th>\n",
              "      <td>NaN</td>\n",
              "      <td>Tecnólogo</td>\n",
              "      <td>UNIP</td>\n",
              "      <td>Coordenador</td>\n",
              "      <td>Entretenimento</td>\n",
              "      <td>1.0</td>\n",
              "      <td>1.0</td>\n",
              "      <td>1.0</td>\n",
              "      <td>6.0</td>\n",
              "      <td>Instagram</td>\n",
              "      <td>41.0</td>\n",
              "      <td>5.0</td>\n",
              "      <td>3.0</td>\n",
              "      <td>0.0</td>\n",
              "      <td>perfil4</td>\n",
              "    </tr>\n",
              "    <tr>\n",
              "      <th>...</th>\n",
              "      <td>...</td>\n",
              "      <td>...</td>\n",
              "      <td>...</td>\n",
              "      <td>...</td>\n",
              "      <td>...</td>\n",
              "      <td>...</td>\n",
              "      <td>...</td>\n",
              "      <td>...</td>\n",
              "      <td>...</td>\n",
              "      <td>...</td>\n",
              "      <td>...</td>\n",
              "      <td>...</td>\n",
              "      <td>...</td>\n",
              "      <td>...</td>\n",
              "      <td>...</td>\n",
              "    </tr>\n",
              "    <tr>\n",
              "      <th>15820</th>\n",
              "      <td>NaN</td>\n",
              "      <td>MBA</td>\n",
              "      <td>Unesp</td>\n",
              "      <td>Coordenador</td>\n",
              "      <td>Laminados</td>\n",
              "      <td>0.0</td>\n",
              "      <td>NaN</td>\n",
              "      <td>1.0</td>\n",
              "      <td>2.0</td>\n",
              "      <td>Linkedin</td>\n",
              "      <td>253.0</td>\n",
              "      <td>96.0</td>\n",
              "      <td>75.0</td>\n",
              "      <td>0.0</td>\n",
              "      <td>perfil2</td>\n",
              "    </tr>\n",
              "    <tr>\n",
              "      <th>15822</th>\n",
              "      <td>NaN</td>\n",
              "      <td>Especialização</td>\n",
              "      <td>FACULDADE ANHANGUERA</td>\n",
              "      <td>Analista Senior</td>\n",
              "      <td>Eletrodomesticos</td>\n",
              "      <td>NaN</td>\n",
              "      <td>1.0</td>\n",
              "      <td>NaN</td>\n",
              "      <td>4.0</td>\n",
              "      <td>Facebook</td>\n",
              "      <td>345.0</td>\n",
              "      <td>266.0</td>\n",
              "      <td>259.0</td>\n",
              "      <td>11.0</td>\n",
              "      <td>perfil1</td>\n",
              "    </tr>\n",
              "    <tr>\n",
              "      <th>15825</th>\n",
              "      <td>NaN</td>\n",
              "      <td>Licenciatura</td>\n",
              "      <td>FGV-RJ</td>\n",
              "      <td>NaN</td>\n",
              "      <td>NaN</td>\n",
              "      <td>0.0</td>\n",
              "      <td>0.0</td>\n",
              "      <td>1.0</td>\n",
              "      <td>2.0</td>\n",
              "      <td>Outros</td>\n",
              "      <td>98.0</td>\n",
              "      <td>NaN</td>\n",
              "      <td>NaN</td>\n",
              "      <td>0.0</td>\n",
              "      <td>perfil2</td>\n",
              "    </tr>\n",
              "    <tr>\n",
              "      <th>15832</th>\n",
              "      <td>NaN</td>\n",
              "      <td>Bacharelado</td>\n",
              "      <td>UFF</td>\n",
              "      <td>Supervisor</td>\n",
              "      <td>e-commerce</td>\n",
              "      <td>0.0</td>\n",
              "      <td>0.0</td>\n",
              "      <td>1.0</td>\n",
              "      <td>3.0</td>\n",
              "      <td>Instagram</td>\n",
              "      <td>31.0</td>\n",
              "      <td>NaN</td>\n",
              "      <td>31.0</td>\n",
              "      <td>0.0</td>\n",
              "      <td>perfil6</td>\n",
              "    </tr>\n",
              "    <tr>\n",
              "      <th>15835</th>\n",
              "      <td>NaN</td>\n",
              "      <td>Bacharelado</td>\n",
              "      <td>FATEC</td>\n",
              "      <td>Analista Senior</td>\n",
              "      <td>NaN</td>\n",
              "      <td>1.0</td>\n",
              "      <td>1.0</td>\n",
              "      <td>1.0</td>\n",
              "      <td>9.0</td>\n",
              "      <td>Outros</td>\n",
              "      <td>354.0</td>\n",
              "      <td>66.0</td>\n",
              "      <td>39.0</td>\n",
              "      <td>0.0</td>\n",
              "      <td>perfil2</td>\n",
              "    </tr>\n",
              "  </tbody>\n",
              "</table>\n",
              "<p>1912 rows × 15 columns</p>\n",
              "</div>"
            ],
            "text/plain": [
              "       id       graduacao  ... certificados categoria\n",
              "8     NaN     Bacharelado  ...          0.0   perfil3\n",
              "10    NaN       Tecnólogo  ...          0.0   perfil6\n",
              "30    NaN    Licenciatura  ...          0.0   perfil6\n",
              "31    NaN     Bacharelado  ...          0.0   perfil6\n",
              "33    NaN       Tecnólogo  ...          0.0   perfil4\n",
              "...    ..             ...  ...          ...       ...\n",
              "15820 NaN             MBA  ...          0.0   perfil2\n",
              "15822 NaN  Especialização  ...         11.0   perfil1\n",
              "15825 NaN    Licenciatura  ...          0.0   perfil2\n",
              "15832 NaN     Bacharelado  ...          0.0   perfil6\n",
              "15835 NaN     Bacharelado  ...          0.0   perfil2\n",
              "\n",
              "[1912 rows x 15 columns]"
            ]
          },
          "metadata": {
            "tags": []
          },
          "execution_count": 6
        }
      ]
    },
    {
      "cell_type": "markdown",
      "metadata": {
        "id": "ak8kQxL_ZSoz",
        "colab_type": "text"
      },
      "source": [
        "<hr>\n",
        "\n",
        "## Detalhamento do desafio: classificação multiclasse\n",
        "\n",
        "Este é um desafio cujo objetivo de negócio é a segmentação dos usuários de uma plataforma de ensino. Para tal, podemos utilizar duas abordagens: aprendizado de máquina supervisionado (classificação) ou não-supervisionado (clustering). Neste desafio será aplicada a classificação, pois é disponível um dataset já com \"labels\", ou em outras palavras, já com exemplos de dados juntamente com a variável alvo.\n",
        "\n",
        "Na biblioteca scikit-learn temos diversos algoritmos para classificação. O participante é livre para utilizar o framework que desejar para completar esse desafio.\n",
        "\n",
        "Neste notebook será mostrado um exeplo de uso do algoritmo \"Decision Tree\" para classificar parte dos estudantes em seis diferentes perfís."
      ]
    },
    {
      "cell_type": "markdown",
      "metadata": {
        "id": "-fBQFyaxZSoz",
        "colab_type": "text"
      },
      "source": [
        "# Atenção!\n",
        "\n",
        "A coluna-alvo neste desafio é a coluna ``categoria``"
      ]
    },
    {
      "cell_type": "markdown",
      "metadata": {
        "id": "eg3KyNvCZSo0",
        "colab_type": "text"
      },
      "source": [
        "<hr>"
      ]
    },
    {
      "cell_type": "code",
      "metadata": {
        "id": "pY12eS_4ZSo3",
        "colab_type": "code",
        "colab": {}
      },
      "source": [
        ""
      ],
      "execution_count": null,
      "outputs": []
    },
    {
      "cell_type": "code",
      "metadata": {
        "id": "xr8qGS9TZSo6",
        "colab_type": "code",
        "colab": {}
      },
      "source": [
        ""
      ],
      "execution_count": null,
      "outputs": []
    },
    {
      "cell_type": "code",
      "metadata": {
        "id": "V_igP8A8ZSo8",
        "colab_type": "code",
        "colab": {}
      },
      "source": [
        ""
      ],
      "execution_count": null,
      "outputs": []
    },
    {
      "cell_type": "markdown",
      "metadata": {
        "id": "EggfylA0ZSo-",
        "colab_type": "text"
      },
      "source": [
        "## Pre-processando o dataset antes do treinamento"
      ]
    },
    {
      "cell_type": "markdown",
      "metadata": {
        "id": "K-ia6lOAZSo_",
        "colab_type": "text"
      },
      "source": [
        "### Removendo todas as linhas que possuem algum valor nulos em determinadas colunas"
      ]
    },
    {
      "cell_type": "markdown",
      "metadata": {
        "id": "-veFOfuwZSpA",
        "colab_type": "text"
      },
      "source": [
        "Usando o método Pandas **DataFrame.dropna()** você pode remover todas as linhas nulas do dataset.\n",
        "\n",
        "Docs: https://pandas.pydata.org/pandas-docs/stable/reference/api/pandas.DataFrame.dropna.html"
      ]
    },
    {
      "cell_type": "code",
      "metadata": {
        "id": "Uelbl70kZSpA",
        "colab_type": "code",
        "colab": {}
      },
      "source": [
        "# Exibindo os dados ausentes do conjunto de dados antes da primeira transformação (df)\n",
        "print(\"Valores nulos no df_training_dataset antes da transformação DropNA: \\n\\n{}\\n\".format(df_training_dataset.isnull().sum(axis = 0)))"
      ],
      "execution_count": null,
      "outputs": []
    },
    {
      "cell_type": "code",
      "metadata": {
        "id": "A9r4YFflZSpC",
        "colab_type": "code",
        "colab": {}
      },
      "source": [
        "# Aplicando a função para deletar todas as linhas com valor NaN na coluna ``certificados'' e ``total_modulos'':\n",
        "df_training_dataset = df_training_dataset.dropna(axis='index', how='any', subset=['certificados', 'total_modulos'])"
      ],
      "execution_count": null,
      "outputs": []
    },
    {
      "cell_type": "code",
      "metadata": {
        "scrolled": true,
        "id": "Ih1_YJK6ZSpF",
        "colab_type": "code",
        "colab": {}
      },
      "source": [
        "# Exibindo os dados ausentes do conjunto de dados após a primeira transformação (df)\n",
        "print(\"Valores nulos no df_training_dataset após a transformação DropNA: \\n\\n{}\\n\".format(df_training_dataset.isnull().sum(axis = 0)))"
      ],
      "execution_count": null,
      "outputs": []
    },
    {
      "cell_type": "markdown",
      "metadata": {
        "id": "oHpR5QdoZSpK",
        "colab_type": "text"
      },
      "source": [
        "### Processando valores NaN com o SimpleImputer do sklearn\n",
        "\n",
        "Para os valores NaN, usaremos a substituição pela constante 0 como **exemplo**.\n",
        "\n",
        "Você pode escolher a estratégia que achar melhor para tratar os valores nulos :)\n",
        "\n",
        "Docs: https://scikit-learn.org/stable/modules/generated/sklearn.impute.SimpleImputer.html?highlight=simpleimputer#sklearn.impute.SimpleImputer"
      ]
    },
    {
      "cell_type": "code",
      "metadata": {
        "id": "EhwzxQE1ZSpK",
        "colab_type": "code",
        "colab": {}
      },
      "source": [
        "from sklearn.impute import SimpleImputer\n",
        "import numpy as np\n",
        "\n",
        "\n",
        "impute_zeros = SimpleImputer(\n",
        "    missing_values=np.nan,\n",
        "    strategy='constant',\n",
        "    fill_value=0,\n",
        "    verbose=0,\n",
        "    copy=True\n",
        ")"
      ],
      "execution_count": null,
      "outputs": []
    },
    {
      "cell_type": "code",
      "metadata": {
        "id": "CdzRYIuyZSpN",
        "colab_type": "code",
        "colab": {}
      },
      "source": [
        "# Exibindo os dados ausentes do conjunto de dados antes da primeira transformação (df)\n",
        "print(\"Valores nulos no df_training_dataset antes da transformação SimpleImputer: \\n\\n{}\\n\".format(df_training_dataset.isnull().sum(axis = 0)))\n",
        "\n",
        "# Aplicando a transformação ``SimpleImputer`` no conjunto de dados base\n",
        "impute_zeros.fit(X=df_training_dataset)\n",
        "\n",
        "# Reconstruindo um Pandas DataFrame com os resultados\n",
        "df_training_dataset_imputed = pd.DataFrame.from_records(\n",
        "    data=impute_zeros.transform(\n",
        "        X=df_training_dataset\n",
        "    ),\n",
        "    columns=df_training_dataset.columns\n",
        ")\n",
        "\n",
        "# Exibindo os dados ausentes do conjunto de dados após a primeira transformação (df)\n",
        "print(\"Valores nulos no df_training_dataset após a transformação SimpleImputer: \\n\\n{}\\n\".format(df_training_dataset_imputed.isnull().sum(axis = 0)))"
      ],
      "execution_count": null,
      "outputs": []
    },
    {
      "cell_type": "markdown",
      "metadata": {
        "id": "Ds4aHqV6ZSpQ",
        "colab_type": "text"
      },
      "source": [
        "### Eliminando colunas indesejadas\n",
        "\n",
        "Vamos **demonstrar** abaixo como usar o método **DataFrame.drop()**.\n",
        "\n",
        "Docs: https://pandas.pydata.org/pandas-docs/stable/reference/api/pandas.DataFrame.drop.html"
      ]
    },
    {
      "cell_type": "code",
      "metadata": {
        "id": "vhf96a8nZSpQ",
        "colab_type": "code",
        "colab": {}
      },
      "source": [
        "df_training_dataset_imputed.tail()"
      ],
      "execution_count": null,
      "outputs": []
    },
    {
      "cell_type": "code",
      "metadata": {
        "id": "vqxPrOrnZSpS",
        "colab_type": "code",
        "colab": {}
      },
      "source": [
        "df_training_dataset_rmcolumns = df_training_dataset_imputed.drop(columns=['id', 'graduacao', 'universidade', 'organizacao', 'como_conheceu_lit'], inplace=False)"
      ],
      "execution_count": null,
      "outputs": []
    },
    {
      "cell_type": "code",
      "metadata": {
        "id": "wLl4aaduZSpU",
        "colab_type": "code",
        "colab": {}
      },
      "source": [
        "df_training_dataset_rmcolumns.tail()"
      ],
      "execution_count": null,
      "outputs": []
    },
    {
      "cell_type": "markdown",
      "metadata": {
        "id": "QyOm-iYwZSpb",
        "colab_type": "text"
      },
      "source": [
        "# Atenção!\n",
        "\n",
        "As colunas removidas acima são apenas para fim de exemplo, você pode usar as colunas que quiser e inclusive criar novas colunas com dados que achar importantes!\n"
      ]
    },
    {
      "cell_type": "markdown",
      "metadata": {
        "id": "Kx1Rk7dYZSpb",
        "colab_type": "text"
      },
      "source": [
        "### Tratamento de de variáveis categóricas\n",
        "\n",
        "Como mencionado antes, os computadores não são bons com variáveis \"categóricas\" (ou strings).\n",
        "\n",
        "Dado uma coluna com variável categórica, o que podemos realizar é a codificação dessa coluna em múltiplas colunas contendo variáveis binárias. Esse processo é chamado de \"one-hot-encoding\" ou \"dummy encoding\". Se você não é familiarizado com esses termos, você pode pesquisar mais sobre isso na internet :)"
      ]
    },
    {
      "cell_type": "code",
      "metadata": {
        "id": "iuXGlVHMZSpb",
        "colab_type": "code",
        "colab": {}
      },
      "source": [
        "# Tratando variáveis categóricas com o método Pandas ``get_dummies()''\n",
        "df_training = pd.get_dummies(df_training_dataset_rmcolumns, columns=['profissao'])\n",
        "df_training.tail()"
      ],
      "execution_count": null,
      "outputs": []
    },
    {
      "cell_type": "markdown",
      "metadata": {
        "id": "8Uqrop0DZSpe",
        "colab_type": "text"
      },
      "source": [
        "# Atenção!\n",
        "\n",
        "A coluna **categoria** deve ser mantida como uma string. Você não precisa processar/codificar a variável-alvo."
      ]
    },
    {
      "cell_type": "markdown",
      "metadata": {
        "id": "e4zXx8DGZSpe",
        "colab_type": "text"
      },
      "source": [
        "<hr>"
      ]
    },
    {
      "cell_type": "markdown",
      "metadata": {
        "id": "DfV-9BlYZSpf",
        "colab_type": "text"
      },
      "source": [
        "## Treinando um classificador com base em uma árvore de decisão"
      ]
    },
    {
      "cell_type": "markdown",
      "metadata": {
        "id": "fBrVf3ZBZSpg",
        "colab_type": "text"
      },
      "source": [
        "### Selecionando FEATURES e definindo a variável TARGET"
      ]
    },
    {
      "cell_type": "code",
      "metadata": {
        "id": "83-9STKSZSph",
        "colab_type": "code",
        "colab": {}
      },
      "source": [
        "df_training.columns"
      ],
      "execution_count": null,
      "outputs": []
    },
    {
      "cell_type": "code",
      "metadata": {
        "id": "ixsDgZxpZSpm",
        "colab_type": "code",
        "colab": {}
      },
      "source": [
        "features = df_training[\n",
        "    [\n",
        "        'pretende_fazer_cursos_lit', 'interesse_mba_lit',\n",
        "        'importante_ter_certificado', 'horas_semanais_estudo', 'total_modulos',\n",
        "        'modulos_iniciados', 'modulos_finalizados', 'certificados',\n",
        "        'profissao_0', 'profissao_Advogado', 'profissao_Analista',\n",
        "        'profissao_Analista Senior', 'profissao_Assessor',\n",
        "        'profissao_Coordenador', 'profissao_Diretor', 'profissao_Engenheiro',\n",
        "        'profissao_Gerente', 'profissao_Outros', 'profissao_SEM EXPERIÊNCIA',\n",
        "        'profissao_Supervisor', 'profissao_Sócio/Dono/Proprietário'\n",
        "    ]\n",
        "]\n",
        "target = df_training['categoria']  ## NÃO TROQUE O NOME DA VARIÁVEL TARGET."
      ],
      "execution_count": null,
      "outputs": []
    },
    {
      "cell_type": "markdown",
      "metadata": {
        "id": "0xXfi7KnZSpt",
        "colab_type": "text"
      },
      "source": [
        "### Dividindo nosso conjunto de dados em conjuntos de treinamento e teste"
      ]
    },
    {
      "cell_type": "code",
      "metadata": {
        "id": "57GETjVpZSpu",
        "colab_type": "code",
        "colab": {}
      },
      "source": [
        "from sklearn.model_selection import train_test_split\n",
        "\n",
        "\n",
        "X_train, X_test, y_train, y_test = train_test_split(features, target, test_size=0.2, random_state=133)"
      ],
      "execution_count": null,
      "outputs": []
    },
    {
      "cell_type": "markdown",
      "metadata": {
        "id": "LAXQZXn5ZSpx",
        "colab_type": "text"
      },
      "source": [
        "### Treinando uma árvore de decisão"
      ]
    },
    {
      "cell_type": "code",
      "metadata": {
        "id": "PGpvyMvMZSpx",
        "colab_type": "code",
        "colab": {}
      },
      "source": [
        "# Método para creacion de modelos basados en arbol de desición\n",
        "from sklearn.tree import DecisionTreeClassifier\n",
        "\n",
        "\n",
        "dtc = DecisionTreeClassifier(max_depth=15).fit(X_train, y_train)"
      ],
      "execution_count": null,
      "outputs": []
    },
    {
      "cell_type": "markdown",
      "metadata": {
        "id": "vkqRtLAuZSpz",
        "colab_type": "text"
      },
      "source": [
        "### Fazendo previsões na amostra de teste"
      ]
    },
    {
      "cell_type": "code",
      "metadata": {
        "id": "PJPT-XtNZSpz",
        "colab_type": "code",
        "colab": {}
      },
      "source": [
        "y_pred = dtc.predict(X_test)\n",
        "print(y_pred)"
      ],
      "execution_count": null,
      "outputs": []
    },
    {
      "cell_type": "markdown",
      "metadata": {
        "id": "M_WTokzTZSp1",
        "colab_type": "text"
      },
      "source": [
        "### Analisando a qualidade do modelo através da matriz de confusão"
      ]
    },
    {
      "cell_type": "code",
      "metadata": {
        "id": "WOYaSOIFZSp1",
        "colab_type": "code",
        "colab": {}
      },
      "source": [
        "import matplotlib.pyplot as plt\n",
        "import numpy as np\n",
        "import itertools\n",
        "\n",
        "\n",
        "def plot_confusion_matrix(cm, target_names, title='Confusion matrix', cmap=None, normalize=True):\n",
        "    accuracy = np.trace(cm) / float(np.sum(cm))\n",
        "    misclass = 1 - accuracy\n",
        "    if cmap is None:\n",
        "        cmap = plt.get_cmap('Blues')\n",
        "    plt.figure(figsize=(8, 6))\n",
        "    plt.imshow(cm, interpolation='nearest', cmap=cmap)\n",
        "    plt.title(title)\n",
        "    plt.colorbar()\n",
        "    if target_names is not None:\n",
        "        tick_marks = np.arange(len(target_names))\n",
        "        plt.xticks(tick_marks, target_names, rotation=45)\n",
        "        plt.yticks(tick_marks, target_names)\n",
        "    if normalize:\n",
        "        cm = cm.astype('float') / cm.sum(axis=1)[:, np.newaxis]\n",
        "    thresh = cm.max() / 1.5 if normalize else cm.max() / 2\n",
        "    for i, j in itertools.product(range(cm.shape[0]), range(cm.shape[1])):\n",
        "        if normalize:\n",
        "            plt.text(j, i, \"{:0.4f}\".format(cm[i, j]),\n",
        "                     horizontalalignment=\"center\",\n",
        "                     color=\"white\" if cm[i, j] > thresh else \"black\")\n",
        "        else:\n",
        "            plt.text(j, i, \"{:,}\".format(cm[i, j]),\n",
        "                     horizontalalignment=\"center\",\n",
        "                     color=\"white\" if cm[i, j] > thresh else \"black\")\n",
        "    plt.tight_layout()\n",
        "    plt.ylabel('True label')\n",
        "    plt.xlabel('Predicted label\\naccuracy={:0.4f}; misclass={:0.4f}'.format(accuracy, misclass))\n",
        "    plt.show()"
      ],
      "execution_count": null,
      "outputs": []
    },
    {
      "cell_type": "code",
      "metadata": {
        "id": "CdSJ9doYZSp9",
        "colab_type": "code",
        "colab": {}
      },
      "source": [
        "from sklearn.metrics import confusion_matrix\n",
        "\n",
        "\n",
        "plot_confusion_matrix(confusion_matrix(y_test, y_pred), ['parfil1', 'perfil2', 'perfil3', 'perfil4', 'perfil5', 'perfil6'])"
      ],
      "execution_count": null,
      "outputs": []
    },
    {
      "cell_type": "markdown",
      "metadata": {
        "id": "EXcp6ulsZSp_",
        "colab_type": "text"
      },
      "source": [
        "<hr>"
      ]
    },
    {
      "cell_type": "markdown",
      "metadata": {
        "id": "jHps-DNgZSp_",
        "colab_type": "text"
      },
      "source": [
        "## Scoring dos dados necessários para entregar a solução"
      ]
    },
    {
      "cell_type": "markdown",
      "metadata": {
        "id": "9e9bIJwuZSqA",
        "colab_type": "text"
      },
      "source": [
        "Como entrega da sua solução, esperamos os resultados classificados no seguinte dataset chamado \"to_be_scored.csv\":"
      ]
    },
    {
      "cell_type": "markdown",
      "metadata": {
        "id": "zyKgeJSPZSqA",
        "colab_type": "text"
      },
      "source": [
        "### Download da \"folha de respostas\""
      ]
    },
    {
      "cell_type": "code",
      "metadata": {
        "scrolled": false,
        "id": "ibqGjCQoZSqB",
        "colab_type": "code",
        "colab": {}
      },
      "source": [
        "!wget --no-check-certificate --content-disposition https://raw.githubusercontent.com/vanderlei-test/dataset-3/master/to_be_scored.csv\n",
        "df_to_be_scored = pd.read_csv(r'to_be_scored.csv')\n",
        "df_to_be_scored.tail()"
      ],
      "execution_count": null,
      "outputs": []
    },
    {
      "cell_type": "markdown",
      "metadata": {
        "id": "jvI47nH6ZSqD",
        "colab_type": "text"
      },
      "source": [
        "# Atenção!\n",
        "\n",
        "O dataframe ``to_be_scored`` é a sua \"folha de respostas\". Note que a coluna \"categoria\" não existe nessa amostra, que não pode ser então utilizada para treino de modelos de aprendizado supervisionado."
      ]
    },
    {
      "cell_type": "code",
      "metadata": {
        "scrolled": true,
        "id": "a29YMKc2ZSqD",
        "colab_type": "code",
        "colab": {}
      },
      "source": [
        "df_to_be_scored.info()"
      ],
      "execution_count": null,
      "outputs": []
    },
    {
      "cell_type": "markdown",
      "metadata": {
        "id": "Ae5wqCgRZSqG",
        "colab_type": "text"
      },
      "source": [
        "<hr>\n",
        "\n",
        "# Atenção!\n",
        "\n",
        "# Para poder aplicar seu modelo e classificar a folha de respostas, você precisa primeiro aplicar as mesmas transformações com colunas que você aplicou no dataset de treino.\n",
        "\n",
        "# Não remova ou adicione linhas na folha de respostas. \n",
        "\n",
        "# Não altere a ordem das linhas na folha de respostas.\n",
        "\n",
        "# Ao final, as 1000 entradas devem estar classificadas, com os valores previstos em uma coluna chamada \"target\"\n",
        "\n",
        "<hr>"
      ]
    },
    {
      "cell_type": "markdown",
      "metadata": {
        "id": "XZWqigjEZSqG",
        "colab_type": "text"
      },
      "source": [
        "Na célula abaixo, repetimos rapidamente os mesmos passos de pré-processamento usados no exemplo dado com árvore de decisão"
      ]
    },
    {
      "cell_type": "code",
      "metadata": {
        "id": "zZIVmUHsZSqJ",
        "colab_type": "code",
        "colab": {}
      },
      "source": [
        "# 1 - Removendo linhas com valores NaN em \"certificados\" e \"total_modulos\"\n",
        "df_to_be_scored_1 = df_to_be_scored.dropna(axis='index', how='any', subset=['certificados', 'total_modulos'])\n",
        "\n",
        "# 2 - Inputando zeros nos valores faltantes\n",
        "impute_zeros.fit(X=df_to_be_scored_1)\n",
        "df_to_be_scored_2 = pd.DataFrame.from_records(\n",
        "    data=impute_zeros.transform(\n",
        "        X=df_to_be_scored_1\n",
        "    ),\n",
        "    columns=df_to_be_scored_1.columns\n",
        ")\n",
        "\n",
        "# 3 - Remoção de colunas\n",
        "df_to_be_scored_3 = df_to_be_scored_2.drop(columns=['id', 'graduacao', 'universidade', 'organizacao', 'como_conheceu_lit'], inplace=False)\n",
        "\n",
        "# 4 - Encoding com \"dummy variables\"\n",
        "df_to_be_scored_4 = pd.get_dummies(df_to_be_scored_3, columns=['profissao'])\n",
        "\n",
        "df_to_be_scored_4.tail()"
      ],
      "execution_count": null,
      "outputs": []
    },
    {
      "cell_type": "markdown",
      "metadata": {
        "id": "GXrwYHvpZSqM",
        "colab_type": "text"
      },
      "source": [
        "<hr>\n",
        "\n",
        "Pode ser verificado abaixo que as colunas da folha de resposta agora são idênticas às que foram usadas para treinar o modelo:"
      ]
    },
    {
      "cell_type": "code",
      "metadata": {
        "id": "3b9ZxGmWZSqM",
        "colab_type": "code",
        "colab": {}
      },
      "source": [
        "df_training[\n",
        "    [\n",
        "        'pretende_fazer_cursos_lit', 'interesse_mba_lit',\n",
        "        'importante_ter_certificado', 'horas_semanais_estudo', 'total_modulos',\n",
        "        'modulos_iniciados', 'modulos_finalizados', 'certificados',\n",
        "        'profissao_0', 'profissao_Advogado', 'profissao_Analista',\n",
        "        'profissao_Analista Senior', 'profissao_Assessor',\n",
        "        'profissao_Coordenador', 'profissao_Diretor', 'profissao_Engenheiro',\n",
        "        'profissao_Gerente', 'profissao_Outros', 'profissao_SEM EXPERIÊNCIA',\n",
        "        'profissao_Supervisor', 'profissao_Sócio/Dono/Proprietário'\n",
        "    ]\n",
        "].columns"
      ],
      "execution_count": null,
      "outputs": []
    },
    {
      "cell_type": "code",
      "metadata": {
        "id": "TCeYsEClZSqP",
        "colab_type": "code",
        "colab": {}
      },
      "source": [
        "df_to_be_scored_4.columns"
      ],
      "execution_count": null,
      "outputs": []
    },
    {
      "cell_type": "markdown",
      "metadata": {
        "id": "90eYO8aYZSqR",
        "colab_type": "text"
      },
      "source": [
        "# Atenção\n",
        "\n",
        "Para todas colunas que não existirem no \"df_to_be_scored\", você pode usar a técnica abaixo para adicioná-las:"
      ]
    },
    {
      "cell_type": "code",
      "metadata": {
        "id": "WtAcS5OzZSqR",
        "colab_type": "code",
        "colab": {}
      },
      "source": [
        "df_to_be_scored_4['profissao_0'] = 0"
      ],
      "execution_count": null,
      "outputs": []
    },
    {
      "cell_type": "code",
      "metadata": {
        "scrolled": false,
        "id": "TxKQDwxOZSqS",
        "colab_type": "code",
        "colab": {}
      },
      "source": [
        "y_pred = dtc.predict(df_to_be_scored_4)\n",
        "df_to_be_scored_4['target'] = y_pred\n",
        "df_to_be_scored_4.tail()"
      ],
      "execution_count": null,
      "outputs": []
    },
    {
      "cell_type": "markdown",
      "metadata": {
        "id": "wNR4Qe0cZSqV",
        "colab_type": "text"
      },
      "source": [
        "### Salvando a folha de respostas como um arquivo .csv para ser submetido"
      ]
    },
    {
      "cell_type": "code",
      "metadata": {
        "id": "P_UH7awIZSqW",
        "colab_type": "code",
        "colab": {}
      },
      "source": [
        "project.save_data(file_name=\"results.csv\", data=df_to_be_scored_4.to_csv(index=False))"
      ],
      "execution_count": null,
      "outputs": []
    },
    {
      "cell_type": "markdown",
      "metadata": {
        "id": "9YT65QSuZSqd",
        "colab_type": "text"
      },
      "source": [
        "# Atenção\n",
        "\n",
        "# A execução da célula acima irá criar um novo \"data asset\" no seu projeto no Watson Studio. Você precisará realizar o download deste arquivo juntamente com este notebook e criar um arquivo zip com os arquivos **results.csv** e **notebook.ipynb** para submissão. (os arquivos devem estar nomeados desta forma)"
      ]
    },
    {
      "cell_type": "markdown",
      "metadata": {
        "id": "Go6jDKykZSqe",
        "colab_type": "text"
      },
      "source": [
        "<hr>\n",
        "\n",
        "## Parabéns!\n",
        "\n",
        "Se você já está satisfeito com a sua solução, vá até a página abaixo e envie os arquivos necessários para submissão.\n",
        "\n",
        "# https://lit.maratona.dev\n"
      ]
    },
    {
      "cell_type": "code",
      "metadata": {
        "id": "6EdTpr2CZSqe",
        "colab_type": "code",
        "colab": {}
      },
      "source": [
        ""
      ],
      "execution_count": null,
      "outputs": []
    }
  ]
}